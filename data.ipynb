{
 "cells": [
  {
   "cell_type": "code",
   "execution_count": 1,
   "id": "f0094cf8-4833-4b3a-a110-549dffe0acd7",
   "metadata": {},
   "outputs": [],
   "source": [
    "import pandas as pd\n",
    "import os\n",
    "import re\n",
    "import openpyxl"
   ]
  },
  {
   "cell_type": "code",
   "execution_count": 2,
   "id": "4bba4373-37d6-4d68-bee3-f42798306235",
   "metadata": {},
   "outputs": [
    {
     "name": "stdout",
     "output_type": "stream",
     "text": [
      "/home/notvisal/Desktop/Intern/Knife_Sharpness_Dataset\n"
     ]
    }
   ],
   "source": [
    "print(os.getcwd())"
   ]
  },
  {
   "cell_type": "code",
   "execution_count": 3,
   "id": "fd1078d2-4f05-4115-8960-229fadb38582",
   "metadata": {},
   "outputs": [
    {
     "name": "stdout",
     "output_type": "stream",
     "text": [
      "['MVN-J-Boning-64-001.xlsx', 'MVN-J-Boning-90-003.xlsx', 'MVN-J-Boning-90-002.xlsx', 'MVN-J-Boning-90-004.xlsx', 'MVN-J-Boning-64-006.xlsx', 'MVN-J-Boning-64-004.xlsx', 'MVN-J-Boning-64-002.xlsx', 'MVN-J-Boning-90-001.xlsx', 'MVN-J-Boning-64-003.xlsx', 'MVN-J-Boning-79-001.xlsx', 'MVN-J-Boning-64-005.xlsx']\n"
     ]
    }
   ],
   "source": [
    "P1_contents = os.listdir('Theme2/P1/Boning/')\n",
    "\n",
    "print(P1_contents)"
   ]
  },
  {
   "cell_type": "code",
   "execution_count": 4,
   "id": "3b6283ab-935a-4b0d-b7aa-220dd3e67ea3",
   "metadata": {},
   "outputs": [],
   "source": [
    "P1_BONING_PATHS = [\n",
    "    'Theme2/P1/Boning/MVN-J-Boning-64-001.xlsx', \n",
    "    'Theme2/P1/Boning/MVN-J-Boning-90-003.xlsx', \n",
    "    'Theme2/P1/Boning/MVN-J-Boning-90-002.xlsx', \n",
    "    'Theme2/P1/Boning/MVN-J-Boning-90-004.xlsx', \n",
    "    'Theme2/P1/Boning/MVN-J-Boning-64-006.xlsx', \n",
    "    'Theme2/P1/Boning/MVN-J-Boning-64-004.xlsx', \n",
    "    'Theme2/P1/Boning/MVN-J-Boning-64-002.xlsx', \n",
    "    'Theme2/P1/Boning/MVN-J-Boning-90-001.xlsx', \n",
    "    'Theme2/P1/Boning/MVN-J-Boning-64-003.xlsx', \n",
    "    'Theme2/P1/Boning/MVN-J-Boning-79-001.xlsx', \n",
    "    'Theme2/P1/Boning/MVN-J-Boning-64-005.xlsx'\n",
    "]\n",
    "\n",
    "SELECTED_SHEETS = [\n",
    "    'General Information', \n",
    "    'Markers', \n",
    "    'Segment Orientation - Quat', \n",
    "    'Segment Orientation - Euler', \n",
    "    'Segment Position', \n",
    "    'Segment Velocity', \n",
    "    'Segment Acceleration', \n",
    "    'Segment Angular Velocity', \n",
    "    'Segment Angular Acceleration', \n",
    "    'Joint Angles ZXY', \n",
    "    'Joint Angles XZY', \n",
    "    'Ergonomic Joint Angles ZXY', \n",
    "    'Ergonomic Joint Angles XZY', \n",
    "    'Center of Mass', \n",
    "    'Sensor Free Acceleration', \n",
    "    'Sensor Magnetic Field', \n",
    "    'Sensor Orientation - Quat', \n",
    "    'Sensor Orientation - Euler'\n",
    "]"
   ]
  },
  {
   "cell_type": "code",
   "execution_count": 5,
   "id": "8f4e9595-4334-4c1d-b390-4ec0fd2ecdd9",
   "metadata": {},
   "outputs": [
    {
     "name": "stdout",
     "output_type": "stream",
     "text": [
      "['General Information', 'Markers', 'Segment Orientation - Quat', 'Segment Orientation - Euler', 'Segment Position', 'Segment Velocity', 'Segment Acceleration', 'Segment Angular Velocity', 'Segment Angular Acceleration', 'Joint Angles ZXY', 'Joint Angles XZY', 'Ergonomic Joint Angles ZXY', 'Ergonomic Joint Angles XZY', 'Center of Mass', 'Sensor Free Acceleration', 'Sensor Magnetic Field', 'Sensor Orientation - Quat', 'Sensor Orientation - Euler']\n"
     ]
    }
   ],
   "source": [
    "xls_file = pd.ExcelFile(P1_BONING_PATHS[5])\n",
    "\n",
    "print(xls_file.sheet_names)"
   ]
  },
  {
   "cell_type": "code",
   "execution_count": 13,
   "id": "e36555c3-fee9-4e8e-80e3-afa1ae7c63e6",
   "metadata": {},
   "outputs": [
    {
     "name": "stdout",
     "output_type": "stream",
     "text": [
      "['MVN version', '2023.0.0'] \n",
      "\n",
      "['Frame', 'Labelling', 'Unnamed: 2', 'Unnamed: 3'] \n",
      "\n",
      "['Frame', 'Label', 'Pelvis q0', 'Pelvis q1', 'Pelvis q2', 'Pelvis q3', 'L5 q0', 'L5 q1', 'L5 q2', 'L5 q3', 'L3 q0', 'L3 q1', 'L3 q2', 'L3 q3', 'T12 q0', 'T12 q1', 'T12 q2', 'T12 q3', 'T8 q0', 'T8 q1', 'T8 q2', 'T8 q3', 'Neck q0', 'Neck q1', 'Neck q2', 'Neck q3', 'Head q0', 'Head q1', 'Head q2', 'Head q3', 'Right Shoulder q0', 'Right Shoulder q1', 'Right Shoulder q2', 'Right Shoulder q3', 'Right Upper Arm q0', 'Right Upper Arm q1', 'Right Upper Arm q2', 'Right Upper Arm q3', 'Right Forearm q0', 'Right Forearm q1', 'Right Forearm q2', 'Right Forearm q3', 'Right Hand q0', 'Right Hand q1', 'Right Hand q2', 'Right Hand q3', 'Left Shoulder q0', 'Left Shoulder q1', 'Left Shoulder q2', 'Left Shoulder q3', 'Left Upper Arm q0', 'Left Upper Arm q1', 'Left Upper Arm q2', 'Left Upper Arm q3', 'Left Forearm q0', 'Left Forearm q1', 'Left Forearm q2', 'Left Forearm q3', 'Left Hand q0', 'Left Hand q1', 'Left Hand q2', 'Left Hand q3', 'Right Upper Leg q0', 'Right Upper Leg q1', 'Right Upper Leg q2', 'Right Upper Leg q3', 'Right Lower Leg q0', 'Right Lower Leg q1', 'Right Lower Leg q2', 'Right Lower Leg q3', 'Right Foot q0', 'Right Foot q1', 'Right Foot q2', 'Right Foot q3', 'Right Toe q0', 'Right Toe q1', 'Right Toe q2', 'Right Toe q3', 'Left Upper Leg q0', 'Left Upper Leg q1', 'Left Upper Leg q2', 'Left Upper Leg q3', 'Left Lower Leg q0', 'Left Lower Leg q1', 'Left Lower Leg q2', 'Left Lower Leg q3', 'Left Foot q0', 'Left Foot q1', 'Left Foot q2', 'Left Foot q3', 'Left Toe q0', 'Left Toe q1', 'Left Toe q2', 'Left Toe q3'] \n",
      "\n",
      "['Frame', 'Label', 'Pelvis x', 'Pelvis y', 'Pelvis z', 'L5 x', 'L5 y', 'L5 z', 'L3 x', 'L3 y', 'L3 z', 'T12 x', 'T12 y', 'T12 z', 'T8 x', 'T8 y', 'T8 z', 'Neck x', 'Neck y', 'Neck z', 'Head x', 'Head y', 'Head z', 'Right Shoulder x', 'Right Shoulder y', 'Right Shoulder z', 'Right Upper Arm x', 'Right Upper Arm y', 'Right Upper Arm z', 'Right Forearm x', 'Right Forearm y', 'Right Forearm z', 'Right Hand x', 'Right Hand y', 'Right Hand z', 'Left Shoulder x', 'Left Shoulder y', 'Left Shoulder z', 'Left Upper Arm x', 'Left Upper Arm y', 'Left Upper Arm z', 'Left Forearm x', 'Left Forearm y', 'Left Forearm z', 'Left Hand x', 'Left Hand y', 'Left Hand z', 'Right Upper Leg x', 'Right Upper Leg y', 'Right Upper Leg z', 'Right Lower Leg x', 'Right Lower Leg y', 'Right Lower Leg z', 'Right Foot x', 'Right Foot y', 'Right Foot z', 'Right Toe x', 'Right Toe y', 'Right Toe z', 'Left Upper Leg x', 'Left Upper Leg y', 'Left Upper Leg z', 'Left Lower Leg x', 'Left Lower Leg y', 'Left Lower Leg z', 'Left Foot x', 'Left Foot y', 'Left Foot z', 'Left Toe x', 'Left Toe y', 'Left Toe z'] \n",
      "\n",
      "['Frame', 'Label', 'Pelvis x', 'Pelvis y', 'Pelvis z', 'L5 x', 'L5 y', 'L5 z', 'L3 x', 'L3 y', 'L3 z', 'T12 x', 'T12 y', 'T12 z', 'T8 x', 'T8 y', 'T8 z', 'Neck x', 'Neck y', 'Neck z', 'Head x', 'Head y', 'Head z', 'Right Shoulder x', 'Right Shoulder y', 'Right Shoulder z', 'Right Upper Arm x', 'Right Upper Arm y', 'Right Upper Arm z', 'Right Forearm x', 'Right Forearm y', 'Right Forearm z', 'Right Hand x', 'Right Hand y', 'Right Hand z', 'Left Shoulder x', 'Left Shoulder y', 'Left Shoulder z', 'Left Upper Arm x', 'Left Upper Arm y', 'Left Upper Arm z', 'Left Forearm x', 'Left Forearm y', 'Left Forearm z', 'Left Hand x', 'Left Hand y', 'Left Hand z', 'Right Upper Leg x', 'Right Upper Leg y', 'Right Upper Leg z', 'Right Lower Leg x', 'Right Lower Leg y', 'Right Lower Leg z', 'Right Foot x', 'Right Foot y', 'Right Foot z', 'Right Toe x', 'Right Toe y', 'Right Toe z', 'Left Upper Leg x', 'Left Upper Leg y', 'Left Upper Leg z', 'Left Lower Leg x', 'Left Lower Leg y', 'Left Lower Leg z', 'Left Foot x', 'Left Foot y', 'Left Foot z', 'Left Toe x', 'Left Toe y', 'Left Toe z'] \n",
      "\n",
      "['Frame', 'Label', 'Pelvis x', 'Pelvis y', 'Pelvis z', 'L5 x', 'L5 y', 'L5 z', 'L3 x', 'L3 y', 'L3 z', 'T12 x', 'T12 y', 'T12 z', 'T8 x', 'T8 y', 'T8 z', 'Neck x', 'Neck y', 'Neck z', 'Head x', 'Head y', 'Head z', 'Right Shoulder x', 'Right Shoulder y', 'Right Shoulder z', 'Right Upper Arm x', 'Right Upper Arm y', 'Right Upper Arm z', 'Right Forearm x', 'Right Forearm y', 'Right Forearm z', 'Right Hand x', 'Right Hand y', 'Right Hand z', 'Left Shoulder x', 'Left Shoulder y', 'Left Shoulder z', 'Left Upper Arm x', 'Left Upper Arm y', 'Left Upper Arm z', 'Left Forearm x', 'Left Forearm y', 'Left Forearm z', 'Left Hand x', 'Left Hand y', 'Left Hand z', 'Right Upper Leg x', 'Right Upper Leg y', 'Right Upper Leg z', 'Right Lower Leg x', 'Right Lower Leg y', 'Right Lower Leg z', 'Right Foot x', 'Right Foot y', 'Right Foot z', 'Right Toe x', 'Right Toe y', 'Right Toe z', 'Left Upper Leg x', 'Left Upper Leg y', 'Left Upper Leg z', 'Left Lower Leg x', 'Left Lower Leg y', 'Left Lower Leg z', 'Left Foot x', 'Left Foot y', 'Left Foot z', 'Left Toe x', 'Left Toe y', 'Left Toe z'] \n",
      "\n",
      "['Frame', 'Label', 'Pelvis x', 'Pelvis y', 'Pelvis z', 'L5 x', 'L5 y', 'L5 z', 'L3 x', 'L3 y', 'L3 z', 'T12 x', 'T12 y', 'T12 z', 'T8 x', 'T8 y', 'T8 z', 'Neck x', 'Neck y', 'Neck z', 'Head x', 'Head y', 'Head z', 'Right Shoulder x', 'Right Shoulder y', 'Right Shoulder z', 'Right Upper Arm x', 'Right Upper Arm y', 'Right Upper Arm z', 'Right Forearm x', 'Right Forearm y', 'Right Forearm z', 'Right Hand x', 'Right Hand y', 'Right Hand z', 'Left Shoulder x', 'Left Shoulder y', 'Left Shoulder z', 'Left Upper Arm x', 'Left Upper Arm y', 'Left Upper Arm z', 'Left Forearm x', 'Left Forearm y', 'Left Forearm z', 'Left Hand x', 'Left Hand y', 'Left Hand z', 'Right Upper Leg x', 'Right Upper Leg y', 'Right Upper Leg z', 'Right Lower Leg x', 'Right Lower Leg y', 'Right Lower Leg z', 'Right Foot x', 'Right Foot y', 'Right Foot z', 'Right Toe x', 'Right Toe y', 'Right Toe z', 'Left Upper Leg x', 'Left Upper Leg y', 'Left Upper Leg z', 'Left Lower Leg x', 'Left Lower Leg y', 'Left Lower Leg z', 'Left Foot x', 'Left Foot y', 'Left Foot z', 'Left Toe x', 'Left Toe y', 'Left Toe z'] \n",
      "\n",
      "['Frame', 'Label', 'Pelvis x', 'Pelvis y', 'Pelvis z', 'L5 x', 'L5 y', 'L5 z', 'L3 x', 'L3 y', 'L3 z', 'T12 x', 'T12 y', 'T12 z', 'T8 x', 'T8 y', 'T8 z', 'Neck x', 'Neck y', 'Neck z', 'Head x', 'Head y', 'Head z', 'Right Shoulder x', 'Right Shoulder y', 'Right Shoulder z', 'Right Upper Arm x', 'Right Upper Arm y', 'Right Upper Arm z', 'Right Forearm x', 'Right Forearm y', 'Right Forearm z', 'Right Hand x', 'Right Hand y', 'Right Hand z', 'Left Shoulder x', 'Left Shoulder y', 'Left Shoulder z', 'Left Upper Arm x', 'Left Upper Arm y', 'Left Upper Arm z', 'Left Forearm x', 'Left Forearm y', 'Left Forearm z', 'Left Hand x', 'Left Hand y', 'Left Hand z', 'Right Upper Leg x', 'Right Upper Leg y', 'Right Upper Leg z', 'Right Lower Leg x', 'Right Lower Leg y', 'Right Lower Leg z', 'Right Foot x', 'Right Foot y', 'Right Foot z', 'Right Toe x', 'Right Toe y', 'Right Toe z', 'Left Upper Leg x', 'Left Upper Leg y', 'Left Upper Leg z', 'Left Lower Leg x', 'Left Lower Leg y', 'Left Lower Leg z', 'Left Foot x', 'Left Foot y', 'Left Foot z', 'Left Toe x', 'Left Toe y', 'Left Toe z'] \n",
      "\n",
      "['Frame', 'Label', 'Pelvis x', 'Pelvis y', 'Pelvis z', 'L5 x', 'L5 y', 'L5 z', 'L3 x', 'L3 y', 'L3 z', 'T12 x', 'T12 y', 'T12 z', 'T8 x', 'T8 y', 'T8 z', 'Neck x', 'Neck y', 'Neck z', 'Head x', 'Head y', 'Head z', 'Right Shoulder x', 'Right Shoulder y', 'Right Shoulder z', 'Right Upper Arm x', 'Right Upper Arm y', 'Right Upper Arm z', 'Right Forearm x', 'Right Forearm y', 'Right Forearm z', 'Right Hand x', 'Right Hand y', 'Right Hand z', 'Left Shoulder x', 'Left Shoulder y', 'Left Shoulder z', 'Left Upper Arm x', 'Left Upper Arm y', 'Left Upper Arm z', 'Left Forearm x', 'Left Forearm y', 'Left Forearm z', 'Left Hand x', 'Left Hand y', 'Left Hand z', 'Right Upper Leg x', 'Right Upper Leg y', 'Right Upper Leg z', 'Right Lower Leg x', 'Right Lower Leg y', 'Right Lower Leg z', 'Right Foot x', 'Right Foot y', 'Right Foot z', 'Right Toe x', 'Right Toe y', 'Right Toe z', 'Left Upper Leg x', 'Left Upper Leg y', 'Left Upper Leg z', 'Left Lower Leg x', 'Left Lower Leg y', 'Left Lower Leg z', 'Left Foot x', 'Left Foot y', 'Left Foot z', 'Left Toe x', 'Left Toe y', 'Left Toe z'] \n",
      "\n",
      "['Frame', 'Label', 'L5S1 Lateral Bending', 'L5S1 Axial Bending', 'L5S1 Flexion/Extension', 'L4L3 Lateral Bending', 'L4L3 Axial Rotation', 'L4L3 Flexion/Extension', 'L1T12 Lateral Bending', 'L1T12 Axial Rotation', 'L1T12 Flexion/Extension', 'T9T8 Lateral Bending', 'T9T8 Axial Rotation', 'T9T8 Flexion/Extension', 'T1C7 Lateral Bending', 'T1C7 Axial Rotation', 'T1C7 Flexion/Extension', 'C1 Head Lateral Bending', 'C1 Head Axial Rotation', 'C1 Head Flexion/Extension', 'Right T4 Shoulder Abduction/Adduction', 'Right T4 Shoulder Internal/External Rotation', 'Right T4 Shoulder Flexion/Extension', 'Right Shoulder Abduction/Adduction', 'Right Shoulder Internal/External Rotation', 'Right Shoulder Flexion/Extension', 'Right Elbow Ulnar Deviation/Radial Deviation', 'Right Elbow Pronation/Supination', 'Right Elbow Flexion/Extension', 'Right Wrist Ulnar Deviation/Radial Deviation', 'Right Wrist Pronation/Supination', 'Right Wrist Flexion/Extension', 'Left T4 Shoulder Abduction/Adduction', 'Left T4 Shoulder Internal/External Rotation', 'Left T4 Shoulder Flexion/Extension', 'Left Shoulder Abduction/Adduction', 'Left Shoulder Internal/External Rotation', 'Left Shoulder Flexion/Extension', 'Left Elbow Ulnar Deviation/Radial Deviation', 'Left Elbow Pronation/Supination', 'Left Elbow Flexion/Extension', 'Left Wrist Ulnar Deviation/Radial Deviation', 'Left Wrist Pronation/Supination', 'Left Wrist Flexion/Extension', 'Right Hip Abduction/Adduction', 'Right Hip Internal/External Rotation', 'Right Hip Flexion/Extension', 'Right Knee Abduction/Adduction', 'Right Knee Internal/External Rotation', 'Right Knee Flexion/Extension', 'Right Ankle Abduction/Adduction', 'Right Ankle Internal/External Rotation', 'Right Ankle Dorsiflexion/Plantarflexion', 'Right Ball Foot Abduction/Adduction', 'Right Ball Foot Internal/External Rotation', 'Right Ball Foot Flexion/Extension', 'Left Hip Abduction/Adduction', 'Left Hip Internal/External Rotation', 'Left Hip Flexion/Extension', 'Left Knee Abduction/Adduction', 'Left Knee Internal/External Rotation', 'Left Knee Flexion/Extension', 'Left Ankle Abduction/Adduction', 'Left Ankle Internal/External Rotation', 'Left Ankle Dorsiflexion/Plantarflexion', 'Left Ball Foot Abduction/Adduction', 'Left Ball Foot Internal/External Rotation', 'Left Ball Foot Flexion/Extension'] \n",
      "\n",
      "['Frame', 'Label', 'L5S1 Lateral Bending', 'L5S1 Axial Bending', 'L5S1 Flexion/Extension', 'L4L3 Lateral Bending', 'L4L3 Axial Rotation', 'L4L3 Flexion/Extension', 'L1T12 Lateral Bending', 'L1T12 Axial Rotation', 'L1T12 Flexion/Extension', 'T9T8 Lateral Bending', 'T9T8 Axial Rotation', 'T9T8 Flexion/Extension', 'T1C7 Lateral Bending', 'T1C7 Axial Rotation', 'T1C7 Flexion/Extension', 'C1 Head Lateral Bending', 'C1 Head Axial Rotation', 'C1 Head Flexion/Extension', 'Right T4 Shoulder Abduction/Adduction', 'Right T4 Shoulder Internal/External Rotation', 'Right T4 Shoulder Flexion/Extension', 'Right Shoulder Abduction/Adduction', 'Right Shoulder Internal/External Rotation', 'Right Shoulder Flexion/Extension', 'Right Elbow Ulnar Deviation/Radial Deviation', 'Right Elbow Pronation/Supination', 'Right Elbow Flexion/Extension', 'Right Wrist Ulnar Deviation/Radial Deviation', 'Right Wrist Pronation/Supination', 'Right Wrist Flexion/Extension', 'Left T4 Shoulder Abduction/Adduction', 'Left T4 Shoulder Internal/External Rotation', 'Left T4 Shoulder Flexion/Extension', 'Left Shoulder Abduction/Adduction', 'Left Shoulder Internal/External Rotation', 'Left Shoulder Flexion/Extension', 'Left Elbow Ulnar Deviation/Radial Deviation', 'Left Elbow Pronation/Supination', 'Left Elbow Flexion/Extension', 'Left Wrist Ulnar Deviation/Radial Deviation', 'Left Wrist Pronation/Supination', 'Left Wrist Flexion/Extension', 'Right Hip Abduction/Adduction', 'Right Hip Internal/External Rotation', 'Right Hip Flexion/Extension', 'Right Knee Abduction/Adduction', 'Right Knee Internal/External Rotation', 'Right Knee Flexion/Extension', 'Right Ankle Abduction/Adduction', 'Right Ankle Internal/External Rotation', 'Right Ankle Dorsiflexion/Plantarflexion', 'Right Ball Foot Abduction/Adduction', 'Right Ball Foot Internal/External Rotation', 'Right Ball Foot Flexion/Extension', 'Left Hip Abduction/Adduction', 'Left Hip Internal/External Rotation', 'Left Hip Flexion/Extension', 'Left Knee Abduction/Adduction', 'Left Knee Internal/External Rotation', 'Left Knee Flexion/Extension', 'Left Ankle Abduction/Adduction', 'Left Ankle Internal/External Rotation', 'Left Ankle Dorsiflexion/Plantarflexion', 'Left Ball Foot Abduction/Adduction', 'Left Ball Foot Internal/External Rotation', 'Left Ball Foot Flexion/Extension'] \n",
      "\n",
      "['Frame', 'Label', 'T8_Head Lateral Bending', 'T8_Head Axial Bending', 'T8_Head Flexion/Extension', 'T8_LeftUpperArm Lateral Bending', 'T8_LeftUpperArm Axial Bending', 'T8_LeftUpperArm Flexion/Extension', 'T8_RightUpperArm Lateral Bending', 'T8_RightUpperArm Axial Bending', 'T8_RightUpperArm Flexion/Extension', 'Pelvis_T8 Lateral Bending', 'Pelvis_T8 Axial Bending', 'Pelvis_T8 Flexion/Extension', 'Vertical_Pelvis Lateral Bending', 'Vertical_Pelvis Axial Bending', 'Vertical_Pelvis Flexion/Extension', 'Vertical_T8 Lateral Bending', 'Vertical_T8 Axial Bending', 'Vertical_T8 Flexion/Extension'] \n",
      "\n",
      "['Frame', 'Label', 'T8_Head Lateral Bending', 'T8_Head Axial Bending', 'T8_Head Flexion/Extension', 'T8_LeftUpperArm Lateral Bending', 'T8_LeftUpperArm Axial Bending', 'T8_LeftUpperArm Flexion/Extension', 'T8_RightUpperArm Lateral Bending', 'T8_RightUpperArm Axial Bending', 'T8_RightUpperArm Flexion/Extension', 'Pelvis_T8 Lateral Bending', 'Pelvis_T8 Axial Bending', 'Pelvis_T8 Flexion/Extension', 'Vertical_Pelvis Lateral Bending', 'Vertical_Pelvis Axial Bending', 'Vertical_Pelvis Flexion/Extension', 'Vertical_T8 Lateral Bending', 'Vertical_T8 Axial Bending', 'Vertical_T8 Flexion/Extension'] \n",
      "\n",
      "['Frame', 'Label', 'CoM pos x', 'CoM pos y', 'CoM pos z', 'CoM vel x', 'CoM vel y', 'CoM vel z', 'CoM acc x', 'CoM acc y', 'CoM acc z'] \n",
      "\n",
      "['Frame', 'Label', 'Pelvis x', 'Pelvis y', 'Pelvis z', 'L5 x', 'L5 y', 'L5 z', 'L3 x', 'L3 y', 'L3 z', 'T12 x', 'T12 y', 'T12 z', 'T8 x', 'T8 y', 'T8 z', 'Neck x', 'Neck y', 'Neck z', 'Head x', 'Head y', 'Head z', 'Right Shoulder x', 'Right Shoulder y', 'Right Shoulder z', 'Right Upper Arm x', 'Right Upper Arm y', 'Right Upper Arm z', 'Right Forearm x', 'Right Forearm y', 'Right Forearm z', 'Right Hand x', 'Right Hand y', 'Right Hand z', 'Left Shoulder x', 'Left Shoulder y', 'Left Shoulder z', 'Left Upper Arm x', 'Left Upper Arm y', 'Left Upper Arm z', 'Left Forearm x', 'Left Forearm y', 'Left Forearm z', 'Left Hand x', 'Left Hand y', 'Left Hand z', 'Right Upper Leg x', 'Right Upper Leg y', 'Right Upper Leg z', 'Right Lower Leg x', 'Right Lower Leg y', 'Right Lower Leg z', 'Right Foot x', 'Right Foot y', 'Right Foot z', 'Right Toe x', 'Right Toe y', 'Right Toe z', 'Left Upper Leg x', 'Left Upper Leg y', 'Left Upper Leg z', 'Left Lower Leg x', 'Left Lower Leg y', 'Left Lower Leg z', 'Left Foot x', 'Left Foot y', 'Left Foot z', 'Left Toe x', 'Left Toe y', 'Left Toe z'] \n",
      "\n",
      "['Frame', 'Label', 'Pelvis x', 'Pelvis y', 'Pelvis z', 'L5 x', 'L5 y', 'L5 z', 'L3 x', 'L3 y', 'L3 z', 'T12 x', 'T12 y', 'T12 z', 'T8 x', 'T8 y', 'T8 z', 'Neck x', 'Neck y', 'Neck z', 'Head x', 'Head y', 'Head z', 'Right Shoulder x', 'Right Shoulder y', 'Right Shoulder z', 'Right Upper Arm x', 'Right Upper Arm y', 'Right Upper Arm z', 'Right Forearm x', 'Right Forearm y', 'Right Forearm z', 'Right Hand x', 'Right Hand y', 'Right Hand z', 'Left Shoulder x', 'Left Shoulder y', 'Left Shoulder z', 'Left Upper Arm x', 'Left Upper Arm y', 'Left Upper Arm z', 'Left Forearm x', 'Left Forearm y', 'Left Forearm z', 'Left Hand x', 'Left Hand y', 'Left Hand z', 'Right Upper Leg x', 'Right Upper Leg y', 'Right Upper Leg z', 'Right Lower Leg x', 'Right Lower Leg y', 'Right Lower Leg z', 'Right Foot x', 'Right Foot y', 'Right Foot z', 'Right Toe x', 'Right Toe y', 'Right Toe z', 'Left Upper Leg x', 'Left Upper Leg y', 'Left Upper Leg z', 'Left Lower Leg x', 'Left Lower Leg y', 'Left Lower Leg z', 'Left Foot x', 'Left Foot y', 'Left Foot z', 'Left Toe x', 'Left Toe y', 'Left Toe z'] \n",
      "\n",
      "['Frame', 'Label', 'Pelvis q0', 'Pelvis q1', 'Pelvis q2', 'Pelvis q3', 'L5 q0', 'L5 q1', 'L5 q2', 'L5 q3', 'L3 q0', 'L3 q1', 'L3 q2', 'L3 q3', 'T12 q0', 'T12 q1', 'T12 q2', 'T12 q3', 'T8 q0', 'T8 q1', 'T8 q2', 'T8 q3', 'Neck q0', 'Neck q1', 'Neck q2', 'Neck q3', 'Head q0', 'Head q1', 'Head q2', 'Head q3', 'Right Shoulder q0', 'Right Shoulder q1', 'Right Shoulder q2', 'Right Shoulder q3', 'Right Upper Arm q0', 'Right Upper Arm q1', 'Right Upper Arm q2', 'Right Upper Arm q3', 'Right Forearm q0', 'Right Forearm q1', 'Right Forearm q2', 'Right Forearm q3', 'Right Hand q0', 'Right Hand q1', 'Right Hand q2', 'Right Hand q3', 'Left Shoulder q0', 'Left Shoulder q1', 'Left Shoulder q2', 'Left Shoulder q3', 'Left Upper Arm q0', 'Left Upper Arm q1', 'Left Upper Arm q2', 'Left Upper Arm q3', 'Left Forearm q0', 'Left Forearm q1', 'Left Forearm q2', 'Left Forearm q3', 'Left Hand q0', 'Left Hand q1', 'Left Hand q2', 'Left Hand q3', 'Right Upper Leg q0', 'Right Upper Leg q1', 'Right Upper Leg q2', 'Right Upper Leg q3', 'Right Lower Leg q0', 'Right Lower Leg q1', 'Right Lower Leg q2', 'Right Lower Leg q3', 'Right Foot q0', 'Right Foot q1', 'Right Foot q2', 'Right Foot q3', 'Right Toe q0', 'Right Toe q1', 'Right Toe q2', 'Right Toe q3', 'Left Upper Leg q0', 'Left Upper Leg q1', 'Left Upper Leg q2', 'Left Upper Leg q3', 'Left Lower Leg q0', 'Left Lower Leg q1', 'Left Lower Leg q2', 'Left Lower Leg q3', 'Left Foot q0', 'Left Foot q1', 'Left Foot q2', 'Left Foot q3', 'Left Toe q0', 'Left Toe q1', 'Left Toe q2', 'Left Toe q3'] \n",
      "\n",
      "['Frame', 'Label', 'Pelvis x', 'Pelvis y', 'Pelvis z', 'L5 x', 'L5 y', 'L5 z', 'L3 x', 'L3 y', 'L3 z', 'T12 x', 'T12 y', 'T12 z', 'T8 x', 'T8 y', 'T8 z', 'Neck x', 'Neck y', 'Neck z', 'Head x', 'Head y', 'Head z', 'Right Shoulder x', 'Right Shoulder y', 'Right Shoulder z', 'Right Upper Arm x', 'Right Upper Arm y', 'Right Upper Arm z', 'Right Forearm x', 'Right Forearm y', 'Right Forearm z', 'Right Hand x', 'Right Hand y', 'Right Hand z', 'Left Shoulder x', 'Left Shoulder y', 'Left Shoulder z', 'Left Upper Arm x', 'Left Upper Arm y', 'Left Upper Arm z', 'Left Forearm x', 'Left Forearm y', 'Left Forearm z', 'Left Hand x', 'Left Hand y', 'Left Hand z', 'Right Upper Leg x', 'Right Upper Leg y', 'Right Upper Leg z', 'Right Lower Leg x', 'Right Lower Leg y', 'Right Lower Leg z', 'Right Foot x', 'Right Foot y', 'Right Foot z', 'Right Toe x', 'Right Toe y', 'Right Toe z', 'Left Upper Leg x', 'Left Upper Leg y', 'Left Upper Leg z', 'Left Lower Leg x', 'Left Lower Leg y', 'Left Lower Leg z', 'Left Foot x', 'Left Foot y', 'Left Foot z', 'Left Toe x', 'Left Toe y', 'Left Toe z'] \n",
      "\n"
     ]
    }
   ],
   "source": [
    "for sheet in SELECTED_SHEETS:\n",
    "    df = xls_file.parse(sheet)\n",
    "\n",
    "    print(f\"{df.columns.tolist()} \\n\")\n",
    "      \n",
    "# see the missing cols\n",
    "# missing_vals = df.isna().sum()\n",
    "# missing_vals[missing_vals > 0]"
   ]
  },
  {
   "cell_type": "markdown",
   "id": "be34b759-0d42-4795-a3cc-bc5b69b070dd",
   "metadata": {},
   "source": [
    "# **Understanding the Dataset (small scale)**"
   ]
  },
  {
   "cell_type": "code",
   "execution_count": 7,
   "id": "43ef06a1-4835-417d-a285-3ab51da9924b",
   "metadata": {},
   "outputs": [
    {
     "name": "stdout",
     "output_type": "stream",
     "text": [
      "processing General Information, initial shape: (5, 2)\n",
      "skipping General Information\n",
      "processing Markers, initial shape: (10, 4)\n",
      "skipping Markers\n",
      "processing Segment Orientation - Quat, initial shape: (5033, 94)\n",
      "after dropna: (5033, 95)\n",
      "after undersampling: (198, 95)\n"
     ]
    },
    {
     "name": "stderr",
     "output_type": "stream",
     "text": [
      "/tmp/ipykernel_5351/1954022068.py:45: DeprecationWarning: DataFrameGroupBy.apply operated on the grouping columns. This behavior is deprecated, and in a future version of pandas the grouping columns will be excluded from the operation. Either pass `include_groups=False` to exclude the groupings or explicitly select the grouping columns after groupby to silence this warning.\n",
      "  df_balanced = df.groupby('Label', group_keys=False).apply(undersample_group, min_count=min_count, target_sampling_rate=target_sampling_rate).reset_index(drop=True)\n"
     ]
    },
    {
     "name": "stdout",
     "output_type": "stream",
     "text": [
      "processing Segment Orientation - Euler, initial shape: (5033, 71)\n",
      "after dropna: (5033, 72)\n",
      "after undersampling: (198, 72)\n"
     ]
    },
    {
     "name": "stderr",
     "output_type": "stream",
     "text": [
      "/tmp/ipykernel_5351/1954022068.py:45: DeprecationWarning: DataFrameGroupBy.apply operated on the grouping columns. This behavior is deprecated, and in a future version of pandas the grouping columns will be excluded from the operation. Either pass `include_groups=False` to exclude the groupings or explicitly select the grouping columns after groupby to silence this warning.\n",
      "  df_balanced = df.groupby('Label', group_keys=False).apply(undersample_group, min_count=min_count, target_sampling_rate=target_sampling_rate).reset_index(drop=True)\n"
     ]
    },
    {
     "name": "stdout",
     "output_type": "stream",
     "text": [
      "processing Segment Position, initial shape: (5033, 71)\n",
      "after dropna: (5033, 72)\n",
      "after undersampling: (198, 72)\n"
     ]
    },
    {
     "name": "stderr",
     "output_type": "stream",
     "text": [
      "/tmp/ipykernel_5351/1954022068.py:45: DeprecationWarning: DataFrameGroupBy.apply operated on the grouping columns. This behavior is deprecated, and in a future version of pandas the grouping columns will be excluded from the operation. Either pass `include_groups=False` to exclude the groupings or explicitly select the grouping columns after groupby to silence this warning.\n",
      "  df_balanced = df.groupby('Label', group_keys=False).apply(undersample_group, min_count=min_count, target_sampling_rate=target_sampling_rate).reset_index(drop=True)\n"
     ]
    },
    {
     "name": "stdout",
     "output_type": "stream",
     "text": [
      "processing Segment Velocity, initial shape: (5033, 71)\n",
      "after dropna: (5033, 72)\n",
      "after undersampling: (198, 72)\n"
     ]
    },
    {
     "name": "stderr",
     "output_type": "stream",
     "text": [
      "/tmp/ipykernel_5351/1954022068.py:45: DeprecationWarning: DataFrameGroupBy.apply operated on the grouping columns. This behavior is deprecated, and in a future version of pandas the grouping columns will be excluded from the operation. Either pass `include_groups=False` to exclude the groupings or explicitly select the grouping columns after groupby to silence this warning.\n",
      "  df_balanced = df.groupby('Label', group_keys=False).apply(undersample_group, min_count=min_count, target_sampling_rate=target_sampling_rate).reset_index(drop=True)\n"
     ]
    },
    {
     "name": "stdout",
     "output_type": "stream",
     "text": [
      "processing Segment Acceleration, initial shape: (5033, 71)\n",
      "after dropna: (5033, 72)\n",
      "after undersampling: (198, 72)\n"
     ]
    },
    {
     "name": "stderr",
     "output_type": "stream",
     "text": [
      "/tmp/ipykernel_5351/1954022068.py:45: DeprecationWarning: DataFrameGroupBy.apply operated on the grouping columns. This behavior is deprecated, and in a future version of pandas the grouping columns will be excluded from the operation. Either pass `include_groups=False` to exclude the groupings or explicitly select the grouping columns after groupby to silence this warning.\n",
      "  df_balanced = df.groupby('Label', group_keys=False).apply(undersample_group, min_count=min_count, target_sampling_rate=target_sampling_rate).reset_index(drop=True)\n"
     ]
    },
    {
     "name": "stdout",
     "output_type": "stream",
     "text": [
      "processing Segment Angular Velocity, initial shape: (5033, 71)\n",
      "after dropna: (5033, 72)\n",
      "after undersampling: (198, 72)\n"
     ]
    },
    {
     "name": "stderr",
     "output_type": "stream",
     "text": [
      "/tmp/ipykernel_5351/1954022068.py:45: DeprecationWarning: DataFrameGroupBy.apply operated on the grouping columns. This behavior is deprecated, and in a future version of pandas the grouping columns will be excluded from the operation. Either pass `include_groups=False` to exclude the groupings or explicitly select the grouping columns after groupby to silence this warning.\n",
      "  df_balanced = df.groupby('Label', group_keys=False).apply(undersample_group, min_count=min_count, target_sampling_rate=target_sampling_rate).reset_index(drop=True)\n"
     ]
    },
    {
     "name": "stdout",
     "output_type": "stream",
     "text": [
      "processing Segment Angular Acceleration, initial shape: (5033, 71)\n",
      "after dropna: (5033, 72)\n",
      "after undersampling: (198, 72)\n"
     ]
    },
    {
     "name": "stderr",
     "output_type": "stream",
     "text": [
      "/tmp/ipykernel_5351/1954022068.py:45: DeprecationWarning: DataFrameGroupBy.apply operated on the grouping columns. This behavior is deprecated, and in a future version of pandas the grouping columns will be excluded from the operation. Either pass `include_groups=False` to exclude the groupings or explicitly select the grouping columns after groupby to silence this warning.\n",
      "  df_balanced = df.groupby('Label', group_keys=False).apply(undersample_group, min_count=min_count, target_sampling_rate=target_sampling_rate).reset_index(drop=True)\n"
     ]
    },
    {
     "name": "stdout",
     "output_type": "stream",
     "text": [
      "processing Joint Angles ZXY, initial shape: (5033, 68)\n",
      "after dropna: (5033, 69)\n",
      "after undersampling: (198, 69)\n"
     ]
    },
    {
     "name": "stderr",
     "output_type": "stream",
     "text": [
      "/tmp/ipykernel_5351/1954022068.py:45: DeprecationWarning: DataFrameGroupBy.apply operated on the grouping columns. This behavior is deprecated, and in a future version of pandas the grouping columns will be excluded from the operation. Either pass `include_groups=False` to exclude the groupings or explicitly select the grouping columns after groupby to silence this warning.\n",
      "  df_balanced = df.groupby('Label', group_keys=False).apply(undersample_group, min_count=min_count, target_sampling_rate=target_sampling_rate).reset_index(drop=True)\n"
     ]
    },
    {
     "name": "stdout",
     "output_type": "stream",
     "text": [
      "processing Joint Angles XZY, initial shape: (5033, 68)\n",
      "after dropna: (5033, 69)\n",
      "after undersampling: (198, 69)\n"
     ]
    },
    {
     "name": "stderr",
     "output_type": "stream",
     "text": [
      "/tmp/ipykernel_5351/1954022068.py:45: DeprecationWarning: DataFrameGroupBy.apply operated on the grouping columns. This behavior is deprecated, and in a future version of pandas the grouping columns will be excluded from the operation. Either pass `include_groups=False` to exclude the groupings or explicitly select the grouping columns after groupby to silence this warning.\n",
      "  df_balanced = df.groupby('Label', group_keys=False).apply(undersample_group, min_count=min_count, target_sampling_rate=target_sampling_rate).reset_index(drop=True)\n"
     ]
    },
    {
     "name": "stdout",
     "output_type": "stream",
     "text": [
      "processing Ergonomic Joint Angles ZXY, initial shape: (5033, 20)\n",
      "after dropna: (5033, 21)\n",
      "after undersampling: (198, 21)\n"
     ]
    },
    {
     "name": "stderr",
     "output_type": "stream",
     "text": [
      "/tmp/ipykernel_5351/1954022068.py:45: DeprecationWarning: DataFrameGroupBy.apply operated on the grouping columns. This behavior is deprecated, and in a future version of pandas the grouping columns will be excluded from the operation. Either pass `include_groups=False` to exclude the groupings or explicitly select the grouping columns after groupby to silence this warning.\n",
      "  df_balanced = df.groupby('Label', group_keys=False).apply(undersample_group, min_count=min_count, target_sampling_rate=target_sampling_rate).reset_index(drop=True)\n"
     ]
    },
    {
     "name": "stdout",
     "output_type": "stream",
     "text": [
      "processing Ergonomic Joint Angles XZY, initial shape: (5033, 20)\n",
      "after dropna: (5033, 21)\n",
      "after undersampling: (198, 21)\n"
     ]
    },
    {
     "name": "stderr",
     "output_type": "stream",
     "text": [
      "/tmp/ipykernel_5351/1954022068.py:45: DeprecationWarning: DataFrameGroupBy.apply operated on the grouping columns. This behavior is deprecated, and in a future version of pandas the grouping columns will be excluded from the operation. Either pass `include_groups=False` to exclude the groupings or explicitly select the grouping columns after groupby to silence this warning.\n",
      "  df_balanced = df.groupby('Label', group_keys=False).apply(undersample_group, min_count=min_count, target_sampling_rate=target_sampling_rate).reset_index(drop=True)\n"
     ]
    },
    {
     "name": "stdout",
     "output_type": "stream",
     "text": [
      "processing Center of Mass, initial shape: (5033, 11)\n",
      "after dropna: (5033, 12)\n",
      "after undersampling: (198, 12)\n"
     ]
    },
    {
     "name": "stderr",
     "output_type": "stream",
     "text": [
      "/tmp/ipykernel_5351/1954022068.py:45: DeprecationWarning: DataFrameGroupBy.apply operated on the grouping columns. This behavior is deprecated, and in a future version of pandas the grouping columns will be excluded from the operation. Either pass `include_groups=False` to exclude the groupings or explicitly select the grouping columns after groupby to silence this warning.\n",
      "  df_balanced = df.groupby('Label', group_keys=False).apply(undersample_group, min_count=min_count, target_sampling_rate=target_sampling_rate).reset_index(drop=True)\n"
     ]
    },
    {
     "name": "stdout",
     "output_type": "stream",
     "text": [
      "processing Sensor Free Acceleration, initial shape: (5033, 71)\n",
      "after dropna: (5033, 72)\n",
      "after undersampling: (198, 72)\n"
     ]
    },
    {
     "name": "stderr",
     "output_type": "stream",
     "text": [
      "/tmp/ipykernel_5351/1954022068.py:45: DeprecationWarning: DataFrameGroupBy.apply operated on the grouping columns. This behavior is deprecated, and in a future version of pandas the grouping columns will be excluded from the operation. Either pass `include_groups=False` to exclude the groupings or explicitly select the grouping columns after groupby to silence this warning.\n",
      "  df_balanced = df.groupby('Label', group_keys=False).apply(undersample_group, min_count=min_count, target_sampling_rate=target_sampling_rate).reset_index(drop=True)\n"
     ]
    },
    {
     "name": "stdout",
     "output_type": "stream",
     "text": [
      "processing Sensor Magnetic Field, initial shape: (5033, 71)\n",
      "after dropna: (5033, 72)\n",
      "after undersampling: (198, 72)\n"
     ]
    },
    {
     "name": "stderr",
     "output_type": "stream",
     "text": [
      "/tmp/ipykernel_5351/1954022068.py:45: DeprecationWarning: DataFrameGroupBy.apply operated on the grouping columns. This behavior is deprecated, and in a future version of pandas the grouping columns will be excluded from the operation. Either pass `include_groups=False` to exclude the groupings or explicitly select the grouping columns after groupby to silence this warning.\n",
      "  df_balanced = df.groupby('Label', group_keys=False).apply(undersample_group, min_count=min_count, target_sampling_rate=target_sampling_rate).reset_index(drop=True)\n"
     ]
    },
    {
     "name": "stdout",
     "output_type": "stream",
     "text": [
      "processing Sensor Orientation - Quat, initial shape: (5033, 94)\n",
      "after dropna: (5033, 95)\n",
      "after undersampling: (198, 95)\n"
     ]
    },
    {
     "name": "stderr",
     "output_type": "stream",
     "text": [
      "/tmp/ipykernel_5351/1954022068.py:45: DeprecationWarning: DataFrameGroupBy.apply operated on the grouping columns. This behavior is deprecated, and in a future version of pandas the grouping columns will be excluded from the operation. Either pass `include_groups=False` to exclude the groupings or explicitly select the grouping columns after groupby to silence this warning.\n",
      "  df_balanced = df.groupby('Label', group_keys=False).apply(undersample_group, min_count=min_count, target_sampling_rate=target_sampling_rate).reset_index(drop=True)\n"
     ]
    },
    {
     "name": "stdout",
     "output_type": "stream",
     "text": [
      "processing Sensor Orientation - Euler, initial shape: (5033, 71)\n",
      "after dropna: (5033, 72)\n",
      "after undersampling: (198, 72)\n",
      "after reindexing sheet 1: (198, 257)\n",
      "after reindexing sheet 2: (198, 257)\n",
      "after reindexing sheet 3: (198, 257)\n",
      "after reindexing sheet 4: (198, 257)\n",
      "after reindexing sheet 5: (198, 257)\n",
      "after reindexing sheet 6: (198, 257)\n",
      "after reindexing sheet 7: (198, 257)\n",
      "after reindexing sheet 8: (198, 257)\n",
      "after reindexing sheet 9: (198, 257)\n",
      "after reindexing sheet 10: (198, 257)\n",
      "after reindexing sheet 11: (198, 257)\n",
      "after reindexing sheet 12: (198, 257)\n",
      "after reindexing sheet 13: (198, 257)\n",
      "after reindexing sheet 14: (198, 257)\n",
      "after reindexing sheet 15: (198, 257)\n",
      "after reindexing sheet 16: (198, 257)\n"
     ]
    },
    {
     "name": "stderr",
     "output_type": "stream",
     "text": [
      "/tmp/ipykernel_5351/1954022068.py:45: DeprecationWarning: DataFrameGroupBy.apply operated on the grouping columns. This behavior is deprecated, and in a future version of pandas the grouping columns will be excluded from the operation. Either pass `include_groups=False` to exclude the groupings or explicitly select the grouping columns after groupby to silence this warning.\n",
      "  df_balanced = df.groupby('Label', group_keys=False).apply(undersample_group, min_count=min_count, target_sampling_rate=target_sampling_rate).reset_index(drop=True)\n",
      "/tmp/ipykernel_5351/1954022068.py:63: FutureWarning: The behavior of DataFrame concatenation with empty or all-NA entries is deprecated. In a future version, this will no longer exclude empty or all-NA columns when determining the result dtypes. To retain the old behavior, exclude the relevant entries before the concat operation.\n",
      "  return pd.concat(all_sheets, ignore_index=True, join='outer')\n"
     ]
    },
    {
     "name": "stdout",
     "output_type": "stream",
     "text": [
      "processing General Information, initial shape: (5, 2)\n",
      "skipping General Information\n",
      "processing Markers, initial shape: (41, 4)\n",
      "skipping Markers\n",
      "processing Segment Orientation - Quat, initial shape: (20405, 94)\n",
      "after dropna: (20405, 95)\n",
      "after undersampling: (813, 95)\n"
     ]
    },
    {
     "name": "stderr",
     "output_type": "stream",
     "text": [
      "/tmp/ipykernel_5351/1954022068.py:45: DeprecationWarning: DataFrameGroupBy.apply operated on the grouping columns. This behavior is deprecated, and in a future version of pandas the grouping columns will be excluded from the operation. Either pass `include_groups=False` to exclude the groupings or explicitly select the grouping columns after groupby to silence this warning.\n",
      "  df_balanced = df.groupby('Label', group_keys=False).apply(undersample_group, min_count=min_count, target_sampling_rate=target_sampling_rate).reset_index(drop=True)\n"
     ]
    },
    {
     "name": "stdout",
     "output_type": "stream",
     "text": [
      "processing Segment Orientation - Euler, initial shape: (20405, 71)\n",
      "after dropna: (20405, 72)\n",
      "after undersampling: (813, 72)\n"
     ]
    },
    {
     "name": "stderr",
     "output_type": "stream",
     "text": [
      "/tmp/ipykernel_5351/1954022068.py:45: DeprecationWarning: DataFrameGroupBy.apply operated on the grouping columns. This behavior is deprecated, and in a future version of pandas the grouping columns will be excluded from the operation. Either pass `include_groups=False` to exclude the groupings or explicitly select the grouping columns after groupby to silence this warning.\n",
      "  df_balanced = df.groupby('Label', group_keys=False).apply(undersample_group, min_count=min_count, target_sampling_rate=target_sampling_rate).reset_index(drop=True)\n"
     ]
    },
    {
     "name": "stdout",
     "output_type": "stream",
     "text": [
      "processing Segment Position, initial shape: (20405, 71)\n",
      "after dropna: (20405, 72)\n",
      "after undersampling: (813, 72)\n"
     ]
    },
    {
     "name": "stderr",
     "output_type": "stream",
     "text": [
      "/tmp/ipykernel_5351/1954022068.py:45: DeprecationWarning: DataFrameGroupBy.apply operated on the grouping columns. This behavior is deprecated, and in a future version of pandas the grouping columns will be excluded from the operation. Either pass `include_groups=False` to exclude the groupings or explicitly select the grouping columns after groupby to silence this warning.\n",
      "  df_balanced = df.groupby('Label', group_keys=False).apply(undersample_group, min_count=min_count, target_sampling_rate=target_sampling_rate).reset_index(drop=True)\n"
     ]
    },
    {
     "name": "stdout",
     "output_type": "stream",
     "text": [
      "processing Segment Velocity, initial shape: (20405, 71)\n",
      "after dropna: (20405, 72)\n",
      "after undersampling: (813, 72)\n"
     ]
    },
    {
     "name": "stderr",
     "output_type": "stream",
     "text": [
      "/tmp/ipykernel_5351/1954022068.py:45: DeprecationWarning: DataFrameGroupBy.apply operated on the grouping columns. This behavior is deprecated, and in a future version of pandas the grouping columns will be excluded from the operation. Either pass `include_groups=False` to exclude the groupings or explicitly select the grouping columns after groupby to silence this warning.\n",
      "  df_balanced = df.groupby('Label', group_keys=False).apply(undersample_group, min_count=min_count, target_sampling_rate=target_sampling_rate).reset_index(drop=True)\n"
     ]
    },
    {
     "name": "stdout",
     "output_type": "stream",
     "text": [
      "processing Segment Acceleration, initial shape: (20405, 71)\n",
      "after dropna: (20405, 72)\n",
      "after undersampling: (813, 72)\n"
     ]
    },
    {
     "name": "stderr",
     "output_type": "stream",
     "text": [
      "/tmp/ipykernel_5351/1954022068.py:45: DeprecationWarning: DataFrameGroupBy.apply operated on the grouping columns. This behavior is deprecated, and in a future version of pandas the grouping columns will be excluded from the operation. Either pass `include_groups=False` to exclude the groupings or explicitly select the grouping columns after groupby to silence this warning.\n",
      "  df_balanced = df.groupby('Label', group_keys=False).apply(undersample_group, min_count=min_count, target_sampling_rate=target_sampling_rate).reset_index(drop=True)\n"
     ]
    },
    {
     "name": "stdout",
     "output_type": "stream",
     "text": [
      "processing Segment Angular Velocity, initial shape: (20405, 71)\n",
      "after dropna: (20405, 72)\n",
      "after undersampling: (813, 72)\n"
     ]
    },
    {
     "name": "stderr",
     "output_type": "stream",
     "text": [
      "/tmp/ipykernel_5351/1954022068.py:45: DeprecationWarning: DataFrameGroupBy.apply operated on the grouping columns. This behavior is deprecated, and in a future version of pandas the grouping columns will be excluded from the operation. Either pass `include_groups=False` to exclude the groupings or explicitly select the grouping columns after groupby to silence this warning.\n",
      "  df_balanced = df.groupby('Label', group_keys=False).apply(undersample_group, min_count=min_count, target_sampling_rate=target_sampling_rate).reset_index(drop=True)\n"
     ]
    },
    {
     "name": "stdout",
     "output_type": "stream",
     "text": [
      "processing Segment Angular Acceleration, initial shape: (20405, 71)\n",
      "after dropna: (20405, 72)\n",
      "after undersampling: (813, 72)\n"
     ]
    },
    {
     "name": "stderr",
     "output_type": "stream",
     "text": [
      "/tmp/ipykernel_5351/1954022068.py:45: DeprecationWarning: DataFrameGroupBy.apply operated on the grouping columns. This behavior is deprecated, and in a future version of pandas the grouping columns will be excluded from the operation. Either pass `include_groups=False` to exclude the groupings or explicitly select the grouping columns after groupby to silence this warning.\n",
      "  df_balanced = df.groupby('Label', group_keys=False).apply(undersample_group, min_count=min_count, target_sampling_rate=target_sampling_rate).reset_index(drop=True)\n"
     ]
    },
    {
     "name": "stdout",
     "output_type": "stream",
     "text": [
      "processing Joint Angles ZXY, initial shape: (20405, 68)\n",
      "after dropna: (20405, 69)\n",
      "after undersampling: (813, 69)\n"
     ]
    },
    {
     "name": "stderr",
     "output_type": "stream",
     "text": [
      "/tmp/ipykernel_5351/1954022068.py:45: DeprecationWarning: DataFrameGroupBy.apply operated on the grouping columns. This behavior is deprecated, and in a future version of pandas the grouping columns will be excluded from the operation. Either pass `include_groups=False` to exclude the groupings or explicitly select the grouping columns after groupby to silence this warning.\n",
      "  df_balanced = df.groupby('Label', group_keys=False).apply(undersample_group, min_count=min_count, target_sampling_rate=target_sampling_rate).reset_index(drop=True)\n"
     ]
    },
    {
     "name": "stdout",
     "output_type": "stream",
     "text": [
      "processing Joint Angles XZY, initial shape: (20405, 68)\n",
      "after dropna: (20405, 69)\n",
      "after undersampling: (813, 69)\n"
     ]
    },
    {
     "name": "stderr",
     "output_type": "stream",
     "text": [
      "/tmp/ipykernel_5351/1954022068.py:45: DeprecationWarning: DataFrameGroupBy.apply operated on the grouping columns. This behavior is deprecated, and in a future version of pandas the grouping columns will be excluded from the operation. Either pass `include_groups=False` to exclude the groupings or explicitly select the grouping columns after groupby to silence this warning.\n",
      "  df_balanced = df.groupby('Label', group_keys=False).apply(undersample_group, min_count=min_count, target_sampling_rate=target_sampling_rate).reset_index(drop=True)\n"
     ]
    },
    {
     "name": "stdout",
     "output_type": "stream",
     "text": [
      "processing Ergonomic Joint Angles ZXY, initial shape: (20405, 20)\n",
      "after dropna: (20405, 21)\n",
      "after undersampling: (813, 21)\n"
     ]
    },
    {
     "name": "stderr",
     "output_type": "stream",
     "text": [
      "/tmp/ipykernel_5351/1954022068.py:45: DeprecationWarning: DataFrameGroupBy.apply operated on the grouping columns. This behavior is deprecated, and in a future version of pandas the grouping columns will be excluded from the operation. Either pass `include_groups=False` to exclude the groupings or explicitly select the grouping columns after groupby to silence this warning.\n",
      "  df_balanced = df.groupby('Label', group_keys=False).apply(undersample_group, min_count=min_count, target_sampling_rate=target_sampling_rate).reset_index(drop=True)\n"
     ]
    },
    {
     "name": "stdout",
     "output_type": "stream",
     "text": [
      "processing Ergonomic Joint Angles XZY, initial shape: (20405, 20)\n",
      "after dropna: (20405, 21)\n",
      "after undersampling: (813, 21)\n"
     ]
    },
    {
     "name": "stderr",
     "output_type": "stream",
     "text": [
      "/tmp/ipykernel_5351/1954022068.py:45: DeprecationWarning: DataFrameGroupBy.apply operated on the grouping columns. This behavior is deprecated, and in a future version of pandas the grouping columns will be excluded from the operation. Either pass `include_groups=False` to exclude the groupings or explicitly select the grouping columns after groupby to silence this warning.\n",
      "  df_balanced = df.groupby('Label', group_keys=False).apply(undersample_group, min_count=min_count, target_sampling_rate=target_sampling_rate).reset_index(drop=True)\n"
     ]
    },
    {
     "name": "stdout",
     "output_type": "stream",
     "text": [
      "processing Center of Mass, initial shape: (20405, 11)\n",
      "after dropna: (20405, 12)\n",
      "after undersampling: (813, 12)\n"
     ]
    },
    {
     "name": "stderr",
     "output_type": "stream",
     "text": [
      "/tmp/ipykernel_5351/1954022068.py:45: DeprecationWarning: DataFrameGroupBy.apply operated on the grouping columns. This behavior is deprecated, and in a future version of pandas the grouping columns will be excluded from the operation. Either pass `include_groups=False` to exclude the groupings or explicitly select the grouping columns after groupby to silence this warning.\n",
      "  df_balanced = df.groupby('Label', group_keys=False).apply(undersample_group, min_count=min_count, target_sampling_rate=target_sampling_rate).reset_index(drop=True)\n"
     ]
    },
    {
     "name": "stdout",
     "output_type": "stream",
     "text": [
      "processing Sensor Free Acceleration, initial shape: (20405, 71)\n",
      "after dropna: (20405, 72)\n",
      "after undersampling: (813, 72)\n"
     ]
    },
    {
     "name": "stderr",
     "output_type": "stream",
     "text": [
      "/tmp/ipykernel_5351/1954022068.py:45: DeprecationWarning: DataFrameGroupBy.apply operated on the grouping columns. This behavior is deprecated, and in a future version of pandas the grouping columns will be excluded from the operation. Either pass `include_groups=False` to exclude the groupings or explicitly select the grouping columns after groupby to silence this warning.\n",
      "  df_balanced = df.groupby('Label', group_keys=False).apply(undersample_group, min_count=min_count, target_sampling_rate=target_sampling_rate).reset_index(drop=True)\n"
     ]
    },
    {
     "name": "stdout",
     "output_type": "stream",
     "text": [
      "processing Sensor Magnetic Field, initial shape: (20405, 71)\n",
      "after dropna: (20405, 72)\n",
      "after undersampling: (813, 72)\n"
     ]
    },
    {
     "name": "stderr",
     "output_type": "stream",
     "text": [
      "/tmp/ipykernel_5351/1954022068.py:45: DeprecationWarning: DataFrameGroupBy.apply operated on the grouping columns. This behavior is deprecated, and in a future version of pandas the grouping columns will be excluded from the operation. Either pass `include_groups=False` to exclude the groupings or explicitly select the grouping columns after groupby to silence this warning.\n",
      "  df_balanced = df.groupby('Label', group_keys=False).apply(undersample_group, min_count=min_count, target_sampling_rate=target_sampling_rate).reset_index(drop=True)\n"
     ]
    },
    {
     "name": "stdout",
     "output_type": "stream",
     "text": [
      "processing Sensor Orientation - Quat, initial shape: (20405, 94)\n",
      "after dropna: (20405, 95)\n",
      "after undersampling: (813, 95)\n"
     ]
    },
    {
     "name": "stderr",
     "output_type": "stream",
     "text": [
      "/tmp/ipykernel_5351/1954022068.py:45: DeprecationWarning: DataFrameGroupBy.apply operated on the grouping columns. This behavior is deprecated, and in a future version of pandas the grouping columns will be excluded from the operation. Either pass `include_groups=False` to exclude the groupings or explicitly select the grouping columns after groupby to silence this warning.\n",
      "  df_balanced = df.groupby('Label', group_keys=False).apply(undersample_group, min_count=min_count, target_sampling_rate=target_sampling_rate).reset_index(drop=True)\n"
     ]
    },
    {
     "name": "stdout",
     "output_type": "stream",
     "text": [
      "processing Sensor Orientation - Euler, initial shape: (20405, 71)\n",
      "after dropna: (20405, 72)\n",
      "after undersampling: (813, 72)\n",
      "after reindexing sheet 1: (813, 257)\n",
      "after reindexing sheet 2: (813, 257)\n",
      "after reindexing sheet 3: (813, 257)\n",
      "after reindexing sheet 4: (813, 257)\n",
      "after reindexing sheet 5: (813, 257)\n",
      "after reindexing sheet 6: (813, 257)\n",
      "after reindexing sheet 7: (813, 257)\n",
      "after reindexing sheet 8: (813, 257)\n",
      "after reindexing sheet 9: (813, 257)\n",
      "after reindexing sheet 10: (813, 257)\n",
      "after reindexing sheet 11: (813, 257)\n",
      "after reindexing sheet 12: (813, 257)\n",
      "after reindexing sheet 13: (813, 257)\n",
      "after reindexing sheet 14: (813, 257)\n",
      "after reindexing sheet 15: (813, 257)\n",
      "after reindexing sheet 16: (813, 257)\n"
     ]
    },
    {
     "name": "stderr",
     "output_type": "stream",
     "text": [
      "/tmp/ipykernel_5351/1954022068.py:45: DeprecationWarning: DataFrameGroupBy.apply operated on the grouping columns. This behavior is deprecated, and in a future version of pandas the grouping columns will be excluded from the operation. Either pass `include_groups=False` to exclude the groupings or explicitly select the grouping columns after groupby to silence this warning.\n",
      "  df_balanced = df.groupby('Label', group_keys=False).apply(undersample_group, min_count=min_count, target_sampling_rate=target_sampling_rate).reset_index(drop=True)\n",
      "/tmp/ipykernel_5351/1954022068.py:63: FutureWarning: The behavior of DataFrame concatenation with empty or all-NA entries is deprecated. In a future version, this will no longer exclude empty or all-NA columns when determining the result dtypes. To retain the old behavior, exclude the relevant entries before the concat operation.\n",
      "  return pd.concat(all_sheets, ignore_index=True, join='outer')\n"
     ]
    },
    {
     "name": "stdout",
     "output_type": "stream",
     "text": [
      "processing General Information, initial shape: (5, 2)\n",
      "skipping General Information\n",
      "processing Markers, initial shape: (88, 4)\n",
      "skipping Markers\n",
      "processing Segment Orientation - Quat, initial shape: (54193, 94)\n",
      "after dropna: (54193, 95)\n",
      "after undersampling: (2165, 95)\n"
     ]
    },
    {
     "name": "stderr",
     "output_type": "stream",
     "text": [
      "/tmp/ipykernel_5351/1954022068.py:45: DeprecationWarning: DataFrameGroupBy.apply operated on the grouping columns. This behavior is deprecated, and in a future version of pandas the grouping columns will be excluded from the operation. Either pass `include_groups=False` to exclude the groupings or explicitly select the grouping columns after groupby to silence this warning.\n",
      "  df_balanced = df.groupby('Label', group_keys=False).apply(undersample_group, min_count=min_count, target_sampling_rate=target_sampling_rate).reset_index(drop=True)\n"
     ]
    },
    {
     "name": "stdout",
     "output_type": "stream",
     "text": [
      "processing Segment Orientation - Euler, initial shape: (54193, 71)\n",
      "after dropna: (54193, 72)\n",
      "after undersampling: (2165, 72)\n"
     ]
    },
    {
     "name": "stderr",
     "output_type": "stream",
     "text": [
      "/tmp/ipykernel_5351/1954022068.py:45: DeprecationWarning: DataFrameGroupBy.apply operated on the grouping columns. This behavior is deprecated, and in a future version of pandas the grouping columns will be excluded from the operation. Either pass `include_groups=False` to exclude the groupings or explicitly select the grouping columns after groupby to silence this warning.\n",
      "  df_balanced = df.groupby('Label', group_keys=False).apply(undersample_group, min_count=min_count, target_sampling_rate=target_sampling_rate).reset_index(drop=True)\n"
     ]
    },
    {
     "name": "stdout",
     "output_type": "stream",
     "text": [
      "processing Segment Position, initial shape: (54193, 71)\n",
      "after dropna: (54193, 72)\n",
      "after undersampling: (2165, 72)\n"
     ]
    },
    {
     "name": "stderr",
     "output_type": "stream",
     "text": [
      "/tmp/ipykernel_5351/1954022068.py:45: DeprecationWarning: DataFrameGroupBy.apply operated on the grouping columns. This behavior is deprecated, and in a future version of pandas the grouping columns will be excluded from the operation. Either pass `include_groups=False` to exclude the groupings or explicitly select the grouping columns after groupby to silence this warning.\n",
      "  df_balanced = df.groupby('Label', group_keys=False).apply(undersample_group, min_count=min_count, target_sampling_rate=target_sampling_rate).reset_index(drop=True)\n"
     ]
    },
    {
     "name": "stdout",
     "output_type": "stream",
     "text": [
      "processing Segment Velocity, initial shape: (54193, 71)\n",
      "after dropna: (54193, 72)\n",
      "after undersampling: (2165, 72)\n"
     ]
    },
    {
     "name": "stderr",
     "output_type": "stream",
     "text": [
      "/tmp/ipykernel_5351/1954022068.py:45: DeprecationWarning: DataFrameGroupBy.apply operated on the grouping columns. This behavior is deprecated, and in a future version of pandas the grouping columns will be excluded from the operation. Either pass `include_groups=False` to exclude the groupings or explicitly select the grouping columns after groupby to silence this warning.\n",
      "  df_balanced = df.groupby('Label', group_keys=False).apply(undersample_group, min_count=min_count, target_sampling_rate=target_sampling_rate).reset_index(drop=True)\n"
     ]
    },
    {
     "name": "stdout",
     "output_type": "stream",
     "text": [
      "processing Segment Acceleration, initial shape: (54193, 71)\n",
      "after dropna: (54193, 72)\n",
      "after undersampling: (2165, 72)\n"
     ]
    },
    {
     "name": "stderr",
     "output_type": "stream",
     "text": [
      "/tmp/ipykernel_5351/1954022068.py:45: DeprecationWarning: DataFrameGroupBy.apply operated on the grouping columns. This behavior is deprecated, and in a future version of pandas the grouping columns will be excluded from the operation. Either pass `include_groups=False` to exclude the groupings or explicitly select the grouping columns after groupby to silence this warning.\n",
      "  df_balanced = df.groupby('Label', group_keys=False).apply(undersample_group, min_count=min_count, target_sampling_rate=target_sampling_rate).reset_index(drop=True)\n"
     ]
    },
    {
     "name": "stdout",
     "output_type": "stream",
     "text": [
      "processing Segment Angular Velocity, initial shape: (54193, 71)\n",
      "after dropna: (54193, 72)\n",
      "after undersampling: (2165, 72)\n"
     ]
    },
    {
     "name": "stderr",
     "output_type": "stream",
     "text": [
      "/tmp/ipykernel_5351/1954022068.py:45: DeprecationWarning: DataFrameGroupBy.apply operated on the grouping columns. This behavior is deprecated, and in a future version of pandas the grouping columns will be excluded from the operation. Either pass `include_groups=False` to exclude the groupings or explicitly select the grouping columns after groupby to silence this warning.\n",
      "  df_balanced = df.groupby('Label', group_keys=False).apply(undersample_group, min_count=min_count, target_sampling_rate=target_sampling_rate).reset_index(drop=True)\n"
     ]
    },
    {
     "name": "stdout",
     "output_type": "stream",
     "text": [
      "processing Segment Angular Acceleration, initial shape: (54193, 71)\n",
      "after dropna: (54193, 72)\n",
      "after undersampling: (2165, 72)\n"
     ]
    },
    {
     "name": "stderr",
     "output_type": "stream",
     "text": [
      "/tmp/ipykernel_5351/1954022068.py:45: DeprecationWarning: DataFrameGroupBy.apply operated on the grouping columns. This behavior is deprecated, and in a future version of pandas the grouping columns will be excluded from the operation. Either pass `include_groups=False` to exclude the groupings or explicitly select the grouping columns after groupby to silence this warning.\n",
      "  df_balanced = df.groupby('Label', group_keys=False).apply(undersample_group, min_count=min_count, target_sampling_rate=target_sampling_rate).reset_index(drop=True)\n"
     ]
    },
    {
     "name": "stdout",
     "output_type": "stream",
     "text": [
      "processing Joint Angles ZXY, initial shape: (54193, 68)\n",
      "after dropna: (54193, 69)\n",
      "after undersampling: (2165, 69)\n"
     ]
    },
    {
     "name": "stderr",
     "output_type": "stream",
     "text": [
      "/tmp/ipykernel_5351/1954022068.py:45: DeprecationWarning: DataFrameGroupBy.apply operated on the grouping columns. This behavior is deprecated, and in a future version of pandas the grouping columns will be excluded from the operation. Either pass `include_groups=False` to exclude the groupings or explicitly select the grouping columns after groupby to silence this warning.\n",
      "  df_balanced = df.groupby('Label', group_keys=False).apply(undersample_group, min_count=min_count, target_sampling_rate=target_sampling_rate).reset_index(drop=True)\n"
     ]
    },
    {
     "name": "stdout",
     "output_type": "stream",
     "text": [
      "processing Joint Angles XZY, initial shape: (54193, 68)\n",
      "after dropna: (54193, 69)\n",
      "after undersampling: (2165, 69)\n"
     ]
    },
    {
     "name": "stderr",
     "output_type": "stream",
     "text": [
      "/tmp/ipykernel_5351/1954022068.py:45: DeprecationWarning: DataFrameGroupBy.apply operated on the grouping columns. This behavior is deprecated, and in a future version of pandas the grouping columns will be excluded from the operation. Either pass `include_groups=False` to exclude the groupings or explicitly select the grouping columns after groupby to silence this warning.\n",
      "  df_balanced = df.groupby('Label', group_keys=False).apply(undersample_group, min_count=min_count, target_sampling_rate=target_sampling_rate).reset_index(drop=True)\n"
     ]
    },
    {
     "name": "stdout",
     "output_type": "stream",
     "text": [
      "processing Ergonomic Joint Angles ZXY, initial shape: (54193, 20)\n",
      "after dropna: (54193, 21)\n",
      "after undersampling: (2165, 21)\n"
     ]
    },
    {
     "name": "stderr",
     "output_type": "stream",
     "text": [
      "/tmp/ipykernel_5351/1954022068.py:45: DeprecationWarning: DataFrameGroupBy.apply operated on the grouping columns. This behavior is deprecated, and in a future version of pandas the grouping columns will be excluded from the operation. Either pass `include_groups=False` to exclude the groupings or explicitly select the grouping columns after groupby to silence this warning.\n",
      "  df_balanced = df.groupby('Label', group_keys=False).apply(undersample_group, min_count=min_count, target_sampling_rate=target_sampling_rate).reset_index(drop=True)\n"
     ]
    },
    {
     "name": "stdout",
     "output_type": "stream",
     "text": [
      "processing Ergonomic Joint Angles XZY, initial shape: (54193, 20)\n",
      "after dropna: (54193, 21)\n",
      "after undersampling: (2165, 21)\n"
     ]
    },
    {
     "name": "stderr",
     "output_type": "stream",
     "text": [
      "/tmp/ipykernel_5351/1954022068.py:45: DeprecationWarning: DataFrameGroupBy.apply operated on the grouping columns. This behavior is deprecated, and in a future version of pandas the grouping columns will be excluded from the operation. Either pass `include_groups=False` to exclude the groupings or explicitly select the grouping columns after groupby to silence this warning.\n",
      "  df_balanced = df.groupby('Label', group_keys=False).apply(undersample_group, min_count=min_count, target_sampling_rate=target_sampling_rate).reset_index(drop=True)\n"
     ]
    },
    {
     "name": "stdout",
     "output_type": "stream",
     "text": [
      "processing Center of Mass, initial shape: (54193, 11)\n",
      "after dropna: (54193, 12)\n",
      "after undersampling: (2165, 12)\n"
     ]
    },
    {
     "name": "stderr",
     "output_type": "stream",
     "text": [
      "/tmp/ipykernel_5351/1954022068.py:45: DeprecationWarning: DataFrameGroupBy.apply operated on the grouping columns. This behavior is deprecated, and in a future version of pandas the grouping columns will be excluded from the operation. Either pass `include_groups=False` to exclude the groupings or explicitly select the grouping columns after groupby to silence this warning.\n",
      "  df_balanced = df.groupby('Label', group_keys=False).apply(undersample_group, min_count=min_count, target_sampling_rate=target_sampling_rate).reset_index(drop=True)\n"
     ]
    },
    {
     "name": "stdout",
     "output_type": "stream",
     "text": [
      "processing Sensor Free Acceleration, initial shape: (54193, 71)\n",
      "after dropna: (54193, 72)\n",
      "after undersampling: (2165, 72)\n"
     ]
    },
    {
     "name": "stderr",
     "output_type": "stream",
     "text": [
      "/tmp/ipykernel_5351/1954022068.py:45: DeprecationWarning: DataFrameGroupBy.apply operated on the grouping columns. This behavior is deprecated, and in a future version of pandas the grouping columns will be excluded from the operation. Either pass `include_groups=False` to exclude the groupings or explicitly select the grouping columns after groupby to silence this warning.\n",
      "  df_balanced = df.groupby('Label', group_keys=False).apply(undersample_group, min_count=min_count, target_sampling_rate=target_sampling_rate).reset_index(drop=True)\n"
     ]
    },
    {
     "name": "stdout",
     "output_type": "stream",
     "text": [
      "processing Sensor Magnetic Field, initial shape: (54193, 71)\n",
      "after dropna: (54193, 72)\n",
      "after undersampling: (2165, 72)\n"
     ]
    },
    {
     "name": "stderr",
     "output_type": "stream",
     "text": [
      "/tmp/ipykernel_5351/1954022068.py:45: DeprecationWarning: DataFrameGroupBy.apply operated on the grouping columns. This behavior is deprecated, and in a future version of pandas the grouping columns will be excluded from the operation. Either pass `include_groups=False` to exclude the groupings or explicitly select the grouping columns after groupby to silence this warning.\n",
      "  df_balanced = df.groupby('Label', group_keys=False).apply(undersample_group, min_count=min_count, target_sampling_rate=target_sampling_rate).reset_index(drop=True)\n"
     ]
    },
    {
     "name": "stdout",
     "output_type": "stream",
     "text": [
      "processing Sensor Orientation - Quat, initial shape: (54193, 94)\n",
      "after dropna: (54193, 95)\n",
      "after undersampling: (2165, 95)\n"
     ]
    },
    {
     "name": "stderr",
     "output_type": "stream",
     "text": [
      "/tmp/ipykernel_5351/1954022068.py:45: DeprecationWarning: DataFrameGroupBy.apply operated on the grouping columns. This behavior is deprecated, and in a future version of pandas the grouping columns will be excluded from the operation. Either pass `include_groups=False` to exclude the groupings or explicitly select the grouping columns after groupby to silence this warning.\n",
      "  df_balanced = df.groupby('Label', group_keys=False).apply(undersample_group, min_count=min_count, target_sampling_rate=target_sampling_rate).reset_index(drop=True)\n"
     ]
    },
    {
     "name": "stdout",
     "output_type": "stream",
     "text": [
      "processing Sensor Orientation - Euler, initial shape: (54193, 71)\n",
      "after dropna: (54193, 72)\n",
      "after undersampling: (2165, 72)\n",
      "after reindexing sheet 1: (2165, 257)\n",
      "after reindexing sheet 2: (2165, 257)\n",
      "after reindexing sheet 3: (2165, 257)\n",
      "after reindexing sheet 4: (2165, 257)\n",
      "after reindexing sheet 5: (2165, 257)\n",
      "after reindexing sheet 6: (2165, 257)\n",
      "after reindexing sheet 7: (2165, 257)\n",
      "after reindexing sheet 8: (2165, 257)\n",
      "after reindexing sheet 9: (2165, 257)\n",
      "after reindexing sheet 10: (2165, 257)\n",
      "after reindexing sheet 11: (2165, 257)\n",
      "after reindexing sheet 12: (2165, 257)\n",
      "after reindexing sheet 13: (2165, 257)\n",
      "after reindexing sheet 14: (2165, 257)\n",
      "after reindexing sheet 15: (2165, 257)\n",
      "after reindexing sheet 16: (2165, 257)\n"
     ]
    },
    {
     "name": "stderr",
     "output_type": "stream",
     "text": [
      "/tmp/ipykernel_5351/1954022068.py:45: DeprecationWarning: DataFrameGroupBy.apply operated on the grouping columns. This behavior is deprecated, and in a future version of pandas the grouping columns will be excluded from the operation. Either pass `include_groups=False` to exclude the groupings or explicitly select the grouping columns after groupby to silence this warning.\n",
      "  df_balanced = df.groupby('Label', group_keys=False).apply(undersample_group, min_count=min_count, target_sampling_rate=target_sampling_rate).reset_index(drop=True)\n",
      "/tmp/ipykernel_5351/1954022068.py:63: FutureWarning: The behavior of DataFrame concatenation with empty or all-NA entries is deprecated. In a future version, this will no longer exclude empty or all-NA columns when determining the result dtypes. To retain the old behavior, exclude the relevant entries before the concat operation.\n",
      "  return pd.concat(all_sheets, ignore_index=True, join='outer')\n"
     ]
    },
    {
     "name": "stdout",
     "output_type": "stream",
     "text": [
      "    Left Foot q3  sharpness  Right Forearm q3  Right Hand x  \\\n",
      "0       0.865610         64         -0.718660           NaN   \n",
      "1       0.865656         64          0.713075           NaN   \n",
      "2       0.688674         64          0.646431           NaN   \n",
      "3       0.688976         64          0.634212           NaN   \n",
      "4       0.865822         64          0.711837           NaN   \n",
      "5       0.683083         64          0.563166           NaN   \n",
      "6       0.689116         64          0.635806           NaN   \n",
      "7       0.688185         64          0.638977           NaN   \n",
      "8       0.688351         64          0.650868           NaN   \n",
      "9       0.683341         64          0.636691           NaN   \n",
      "10      0.688837         64          0.635530           NaN   \n",
      "11      0.688947         64          0.642542           NaN   \n",
      "12      0.688885         64          0.650407           NaN   \n",
      "13      0.678483         64          0.673842           NaN   \n",
      "14      0.684052         64          0.629120           NaN   \n",
      "15      0.683972         64          0.571534           NaN   \n",
      "16      0.688721         64          0.644634           NaN   \n",
      "17      0.688836         64          0.636026           NaN   \n",
      "18      0.868899         64          0.693197           NaN   \n",
      "19      0.688915         64          0.640045           NaN   \n",
      "20      0.681242         64          0.688076           NaN   \n",
      "21      0.865864         64          0.711957           NaN   \n",
      "22      0.681269         64          0.689005           NaN   \n",
      "23      0.865798         64          0.712212           NaN   \n",
      "24      0.688514         64          0.642545           NaN   \n",
      "25      0.864045         64         -0.732800           NaN   \n",
      "26      0.688534         64          0.649969           NaN   \n",
      "27      0.688627         64          0.643059           NaN   \n",
      "28      0.688823         64          0.634281           NaN   \n",
      "29      0.683826         64          0.570720           NaN   \n",
      "30      0.683550         64          0.609320           NaN   \n",
      "31      0.688863         64          0.643423           NaN   \n",
      "32      0.688810         64          0.646829           NaN   \n",
      "33      0.678986         64         -0.422757           NaN   \n",
      "34      0.688945         64          0.643276           NaN   \n",
      "35      0.866928         64         -0.714610           NaN   \n",
      "36      0.678632         64          0.556962           NaN   \n",
      "37      0.688753         64          0.643966           NaN   \n",
      "38      0.684168         64          0.618179           NaN   \n",
      "39      0.865629         64          0.712356           NaN   \n",
      "40      0.755651         64          0.491356           NaN   \n",
      "41      0.693744         64          0.647165           NaN   \n",
      "42      0.688338         64          0.651226           NaN   \n",
      "43      0.682611         64          0.693735           NaN   \n",
      "44      0.677305         64          0.566372           NaN   \n",
      "45      0.688609         64          0.642922           NaN   \n",
      "46      0.684014         64          0.571700           NaN   \n",
      "47      0.688709         64          0.646025           NaN   \n",
      "48      0.865495         64          0.712749           NaN   \n",
      "49      0.865599         64          0.712441           NaN   \n",
      "\n",
      "    Left Shoulder Flexion/Extension  Pelvis_T8 Flexion/Extension  T12 x  \\\n",
      "0                               NaN                          NaN    NaN   \n",
      "1                               NaN                          NaN    NaN   \n",
      "2                               NaN                          NaN    NaN   \n",
      "3                               NaN                          NaN    NaN   \n",
      "4                               NaN                          NaN    NaN   \n",
      "5                               NaN                          NaN    NaN   \n",
      "6                               NaN                          NaN    NaN   \n",
      "7                               NaN                          NaN    NaN   \n",
      "8                               NaN                          NaN    NaN   \n",
      "9                               NaN                          NaN    NaN   \n",
      "10                              NaN                          NaN    NaN   \n",
      "11                              NaN                          NaN    NaN   \n",
      "12                              NaN                          NaN    NaN   \n",
      "13                              NaN                          NaN    NaN   \n",
      "14                              NaN                          NaN    NaN   \n",
      "15                              NaN                          NaN    NaN   \n",
      "16                              NaN                          NaN    NaN   \n",
      "17                              NaN                          NaN    NaN   \n",
      "18                              NaN                          NaN    NaN   \n",
      "19                              NaN                          NaN    NaN   \n",
      "20                              NaN                          NaN    NaN   \n",
      "21                              NaN                          NaN    NaN   \n",
      "22                              NaN                          NaN    NaN   \n",
      "23                              NaN                          NaN    NaN   \n",
      "24                              NaN                          NaN    NaN   \n",
      "25                              NaN                          NaN    NaN   \n",
      "26                              NaN                          NaN    NaN   \n",
      "27                              NaN                          NaN    NaN   \n",
      "28                              NaN                          NaN    NaN   \n",
      "29                              NaN                          NaN    NaN   \n",
      "30                              NaN                          NaN    NaN   \n",
      "31                              NaN                          NaN    NaN   \n",
      "32                              NaN                          NaN    NaN   \n",
      "33                              NaN                          NaN    NaN   \n",
      "34                              NaN                          NaN    NaN   \n",
      "35                              NaN                          NaN    NaN   \n",
      "36                              NaN                          NaN    NaN   \n",
      "37                              NaN                          NaN    NaN   \n",
      "38                              NaN                          NaN    NaN   \n",
      "39                              NaN                          NaN    NaN   \n",
      "40                              NaN                          NaN    NaN   \n",
      "41                              NaN                          NaN    NaN   \n",
      "42                              NaN                          NaN    NaN   \n",
      "43                              NaN                          NaN    NaN   \n",
      "44                              NaN                          NaN    NaN   \n",
      "45                              NaN                          NaN    NaN   \n",
      "46                              NaN                          NaN    NaN   \n",
      "47                              NaN                          NaN    NaN   \n",
      "48                              NaN                          NaN    NaN   \n",
      "49                              NaN                          NaN    NaN   \n",
      "\n",
      "    Pelvis q2  Head z  Pelvis q3  ...  Right Upper Arm x  \\\n",
      "0   -0.027807     NaN   0.898629  ...                NaN   \n",
      "1   -0.053318     NaN   0.795379  ...                NaN   \n",
      "2   -0.063365     NaN   0.628359  ...                NaN   \n",
      "3   -0.069118     NaN   0.642753  ...                NaN   \n",
      "4   -0.058039     NaN   0.791515  ...                NaN   \n",
      "5   -0.059362     NaN   0.741788  ...                NaN   \n",
      "6   -0.034948     NaN   0.616680  ...                NaN   \n",
      "7    0.002234     NaN   0.630238  ...                NaN   \n",
      "8   -0.054832     NaN   0.613004  ...                NaN   \n",
      "9   -0.054836     NaN   0.757133  ...                NaN   \n",
      "10  -0.070794     NaN   0.643175  ...                NaN   \n",
      "11  -0.080198     NaN   0.638680  ...                NaN   \n",
      "12  -0.069107     NaN   0.636362  ...                NaN   \n",
      "13  -0.032735     NaN   0.644560  ...                NaN   \n",
      "14  -0.035077     NaN   0.763503  ...                NaN   \n",
      "15  -0.065017     NaN   0.734955  ...                NaN   \n",
      "16  -0.058545     NaN   0.610682  ...                NaN   \n",
      "17  -0.072535     NaN   0.641552  ...                NaN   \n",
      "18  -0.053957     NaN   0.752887  ...                NaN   \n",
      "19  -0.076535     NaN   0.640345  ...                NaN   \n",
      "20  -0.052087     NaN   0.648541  ...                NaN   \n",
      "21  -0.058943     NaN   0.790330  ...                NaN   \n",
      "22  -0.053395     NaN   0.648387  ...                NaN   \n",
      "23  -0.057177     NaN   0.792433  ...                NaN   \n",
      "24  -0.060235     NaN   0.611333  ...                NaN   \n",
      "25  -0.040056     NaN   0.850494  ...                NaN   \n",
      "26  -0.050962     NaN   0.613135  ...                NaN   \n",
      "27  -0.074817     NaN   0.640810  ...                NaN   \n",
      "28  -0.069627     NaN   0.642752  ...                NaN   \n",
      "29  -0.068713     NaN   0.740970  ...                NaN   \n",
      "30  -0.056499     NaN   0.755814  ...                NaN   \n",
      "31  -0.081008     NaN   0.638363  ...                NaN   \n",
      "32  -0.045248     NaN   0.614023  ...                NaN   \n",
      "33  -0.047656     NaN   0.699917  ...                NaN   \n",
      "34  -0.081139     NaN   0.638232  ...                NaN   \n",
      "35  -0.025938     NaN   0.902659  ...                NaN   \n",
      "36  -0.057633     NaN   0.729983  ...                NaN   \n",
      "37  -0.057881     NaN   0.610544  ...                NaN   \n",
      "38  -0.040344     NaN   0.763929  ...                NaN   \n",
      "39  -0.053050     NaN   0.795306  ...                NaN   \n",
      "40  -0.060917     NaN   0.752360  ...                NaN   \n",
      "41  -0.075999     NaN   0.675045  ...                NaN   \n",
      "42  -0.055652     NaN   0.612955  ...                NaN   \n",
      "43  -0.058719     NaN   0.647685  ...                NaN   \n",
      "44  -0.056281     NaN   0.708059  ...                NaN   \n",
      "45  -0.059139     NaN   0.610750  ...                NaN   \n",
      "46  -0.067728     NaN   0.737968  ...                NaN   \n",
      "47  -0.076986     NaN   0.639167  ...                NaN   \n",
      "48  -0.052395     NaN   0.787886  ...                NaN   \n",
      "49  -0.053178     NaN   0.795224  ...                NaN   \n",
      "\n",
      "    T8_LeftUpperArm Flexion/Extension  \\\n",
      "0                                 NaN   \n",
      "1                                 NaN   \n",
      "2                                 NaN   \n",
      "3                                 NaN   \n",
      "4                                 NaN   \n",
      "5                                 NaN   \n",
      "6                                 NaN   \n",
      "7                                 NaN   \n",
      "8                                 NaN   \n",
      "9                                 NaN   \n",
      "10                                NaN   \n",
      "11                                NaN   \n",
      "12                                NaN   \n",
      "13                                NaN   \n",
      "14                                NaN   \n",
      "15                                NaN   \n",
      "16                                NaN   \n",
      "17                                NaN   \n",
      "18                                NaN   \n",
      "19                                NaN   \n",
      "20                                NaN   \n",
      "21                                NaN   \n",
      "22                                NaN   \n",
      "23                                NaN   \n",
      "24                                NaN   \n",
      "25                                NaN   \n",
      "26                                NaN   \n",
      "27                                NaN   \n",
      "28                                NaN   \n",
      "29                                NaN   \n",
      "30                                NaN   \n",
      "31                                NaN   \n",
      "32                                NaN   \n",
      "33                                NaN   \n",
      "34                                NaN   \n",
      "35                                NaN   \n",
      "36                                NaN   \n",
      "37                                NaN   \n",
      "38                                NaN   \n",
      "39                                NaN   \n",
      "40                                NaN   \n",
      "41                                NaN   \n",
      "42                                NaN   \n",
      "43                                NaN   \n",
      "44                                NaN   \n",
      "45                                NaN   \n",
      "46                                NaN   \n",
      "47                                NaN   \n",
      "48                                NaN   \n",
      "49                                NaN   \n",
      "\n",
      "    Left T4 Shoulder Internal/External Rotation  Left Hand q2  \\\n",
      "0                                           NaN     -0.599872   \n",
      "1                                           NaN     -0.230386   \n",
      "2                                           NaN      0.162143   \n",
      "3                                           NaN     -0.159241   \n",
      "4                                           NaN     -0.228681   \n",
      "5                                           NaN     -0.465724   \n",
      "6                                           NaN     -0.199355   \n",
      "7                                           NaN     -0.169617   \n",
      "8                                           NaN     -0.185959   \n",
      "9                                           NaN      0.452880   \n",
      "10                                          NaN      0.159497   \n",
      "11                                          NaN      0.159929   \n",
      "12                                          NaN      0.169354   \n",
      "13                                          NaN      0.177712   \n",
      "14                                          NaN     -0.388784   \n",
      "15                                          NaN     -0.464447   \n",
      "16                                          NaN     -0.143087   \n",
      "17                                          NaN     -0.158907   \n",
      "18                                          NaN     -0.221416   \n",
      "19                                          NaN     -0.160711   \n",
      "20                                          NaN      0.162256   \n",
      "21                                          NaN      0.227452   \n",
      "22                                          NaN     -0.162837   \n",
      "23                                          NaN     -0.228720   \n",
      "24                                          NaN      0.141138   \n",
      "25                                          NaN     -0.557103   \n",
      "26                                          NaN     -0.196638   \n",
      "27                                          NaN     -0.158751   \n",
      "28                                          NaN     -0.158806   \n",
      "29                                          NaN      0.447153   \n",
      "30                                          NaN     -0.447782   \n",
      "31                                          NaN     -0.159286   \n",
      "32                                          NaN     -0.199534   \n",
      "33                                          NaN     -0.429774   \n",
      "34                                          NaN      0.159639   \n",
      "35                                          NaN     -0.609499   \n",
      "36                                          NaN     -0.457728   \n",
      "37                                          NaN     -0.145071   \n",
      "38                                          NaN     -0.394207   \n",
      "39                                          NaN     -0.230429   \n",
      "40                                          NaN      0.404895   \n",
      "41                                          NaN     -0.230239   \n",
      "42                                          NaN     -0.182187   \n",
      "43                                          NaN      0.192589   \n",
      "44                                          NaN     -0.510329   \n",
      "45                                          NaN     -0.144300   \n",
      "46                                          NaN      0.456847   \n",
      "47                                          NaN     -0.163837   \n",
      "48                                          NaN     -0.219690   \n",
      "49                                          NaN     -0.230349   \n",
      "\n",
      "    Left Upper Leg q1  Left Forearm q3  Right Toe q2  Right Upper Arm y  \\\n",
      "0            0.011619         0.579465      0.009199                NaN   \n",
      "1            0.003779         0.343807     -0.038352                NaN   \n",
      "2           -0.033012         0.199350     -0.071677                NaN   \n",
      "3            0.032945         0.213792     -0.067852                NaN   \n",
      "4            0.007917         0.343840     -0.036427                NaN   \n",
      "5           -0.002841         0.535026     -0.048826                NaN   \n",
      "6           -0.019542         0.183232     -0.068561                NaN   \n",
      "7           -0.002828         0.232398     -0.071729                NaN   \n",
      "8            0.029345         0.162374     -0.072273                NaN   \n",
      "9            0.000597         0.500088     -0.046651                NaN   \n",
      "10          -0.032957         0.213437     -0.068037                NaN   \n",
      "11          -0.033276         0.209071     -0.067427                NaN   \n",
      "12          -0.032099         0.209747     -0.071002                NaN   \n",
      "13           0.022040         0.231982     -0.074049                NaN   \n",
      "14          -0.011297         0.516620     -0.044710                NaN   \n",
      "15           0.002619         0.505474     -0.048360                NaN   \n",
      "16           0.033015         0.163228     -0.072392                NaN   \n",
      "17           0.032753         0.211345     -0.068197                NaN   \n",
      "18           0.046820         0.314631     -0.029884                NaN   \n",
      "19           0.033240         0.210846     -0.067617                NaN   \n",
      "20           0.025898         0.217542     -0.055383                NaN   \n",
      "21          -0.008323         0.343118     -0.036216                NaN   \n",
      "22          -0.026570         0.215451     -0.052087                NaN   \n",
      "23           0.007466         0.343745     -0.036674                NaN   \n",
      "24          -0.032516         0.160134     -0.073636                NaN   \n",
      "25          -0.021639         0.544651     -0.023593                NaN   \n",
      "26          -0.027957         0.164461     -0.071086                NaN   \n",
      "27           0.034140         0.204626     -0.068719                NaN   \n",
      "28           0.032939         0.212933     -0.067750                NaN   \n",
      "29          -0.001260         0.508536     -0.047028                NaN   \n",
      "30          -0.001358         0.521545     -0.046932                NaN   \n",
      "31           0.033869         0.206630     -0.067563                NaN   \n",
      "32           0.025386         0.171739     -0.069835                NaN   \n",
      "33          -0.035245         0.416157     -0.117730                NaN   \n",
      "34          -0.033629         0.208010     -0.067194                NaN   \n",
      "35           0.018700         0.582185      0.007102                NaN   \n",
      "36          -0.029362         0.514411     -0.030337                NaN   \n",
      "37           0.032575         0.167322     -0.072277                NaN   \n",
      "38          -0.008600         0.505301     -0.046756                NaN   \n",
      "39           0.004802         0.344235     -0.037967                NaN   \n",
      "40           0.037728         0.268479     -0.053792                NaN   \n",
      "41           0.032981         0.266590     -0.055514                NaN   \n",
      "42           0.029683         0.162281     -0.072413                NaN   \n",
      "43           0.027288         0.218349     -0.047530                NaN   \n",
      "44          -0.035505         0.509295     -0.098707                NaN   \n",
      "45           0.032519         0.161569     -0.073295                NaN   \n",
      "46          -0.001600         0.506697     -0.047397                NaN   \n",
      "47           0.034121         0.204072     -0.070827                NaN   \n",
      "48           0.003610         0.334362     -0.038922                NaN   \n",
      "49           0.004600         0.343919     -0.038093                NaN   \n",
      "\n",
      "    Right Upper Leg q0  Right Toe y  \n",
      "0             0.382298          NaN  \n",
      "1             0.629217          NaN  \n",
      "2             0.759949          NaN  \n",
      "3             0.742035          NaN  \n",
      "4             0.631574          NaN  \n",
      "5             0.648009          NaN  \n",
      "6             0.771706          NaN  \n",
      "7             0.769055          NaN  \n",
      "8             0.773738          NaN  \n",
      "9             0.639504          NaN  \n",
      "10            0.741716          NaN  \n",
      "11            0.745030          NaN  \n",
      "12            0.749670          NaN  \n",
      "13            0.750469          NaN  \n",
      "14            0.627299          NaN  \n",
      "15            0.649827          NaN  \n",
      "16            0.773474          NaN  \n",
      "17            0.743244          NaN  \n",
      "18            0.626616          NaN  \n",
      "19            0.744036          NaN  \n",
      "20            0.729752          NaN  \n",
      "21            0.631114          NaN  \n",
      "22            0.728942          NaN  \n",
      "23            0.631692          NaN  \n",
      "24            0.772073          NaN  \n",
      "25            0.529637          NaN  \n",
      "26            0.775156          NaN  \n",
      "27            0.744357          NaN  \n",
      "28            0.741977          NaN  \n",
      "29            0.643636          NaN  \n",
      "30            0.634554          NaN  \n",
      "31            0.744684          NaN  \n",
      "32            0.774510          NaN  \n",
      "33            0.763099          NaN  \n",
      "34            0.745155          NaN  \n",
      "35            0.368111          NaN  \n",
      "36            0.675354          NaN  \n",
      "37            0.773808          NaN  \n",
      "38            0.627608          NaN  \n",
      "39            0.630030          NaN  \n",
      "40            0.624099          NaN  \n",
      "41            0.731945          NaN  \n",
      "42            0.773326          NaN  \n",
      "43            0.730560          NaN  \n",
      "44            0.738031          NaN  \n",
      "45            0.773483          NaN  \n",
      "46            0.643966          NaN  \n",
      "47            0.743219          NaN  \n",
      "48            0.639557          NaN  \n",
      "49            0.630040          NaN  \n",
      "\n",
      "[50 rows x 257 columns]\n"
     ]
    }
   ],
   "source": [
    "file_paths = [\n",
    "    'Theme2/P1/Boning/MVN-J-Boning-64-004.xlsx', \n",
    "    'Theme2/P1/Boning/MVN-J-Boning-90-004.xlsx', \n",
    "    'Theme2/P1/Boning/MVN-J-Boning-79-001.xlsx'\n",
    "]\n",
    "\n",
    "# Sharpness levels corresponding to filenames\n",
    "sharpness_levels = [64, 73, 87]\n",
    "\n",
    "# clean and balance each files\n",
    "def clean_and_balance(file, sharpness, target_sampling_rate=25):\n",
    "    xls = pd.ExcelFile(file)\n",
    "    all_sheets = []\n",
    "    all_columns = set()\n",
    "\n",
    "    def undersample_group(group, min_count, target_sampling_rate):\n",
    "        \"\"\"\n",
    "        the function takes a group (a subset of data corresponding to activity label) and the min_count, and it performs the sampling operation\n",
    "        \"\"\"\n",
    "        num_samples = int(len(group) / target_sampling_rate)\n",
    "\n",
    "        return group.sample(n=num_samples, random_state=42)\n",
    "    \n",
    "    for sheet_name in xls.sheet_names:\n",
    "        df = pd.read_excel(xls, sheet_name=sheet_name)\n",
    "        print(f\"processing {sheet_name}, initial shape: {df.shape}\")\n",
    "        df['sharpness'] = sharpness # assign 'sharpness' as a new col\n",
    "\n",
    "        #check if 'label' column exists\n",
    "        if 'Label' not in df.columns:\n",
    "            print(f\"skipping {sheet_name}\")\n",
    "            continue\n",
    "\n",
    "        #cleaning\n",
    "        df.dropna(inplace=True)\n",
    "        print(f\"after dropna: {df.shape}\")\n",
    "\n",
    "        all_columns.update(df.columns)\n",
    "\n",
    "        #balancing\n",
    "        activity_counts = df['Label'].value_counts()\n",
    "        min_count = activity_counts.min()\n",
    "        \n",
    "        # undersample the data based on activity labels\n",
    "        df_balanced = df.groupby('Label', group_keys=False).apply(undersample_group, min_count=min_count, target_sampling_rate=target_sampling_rate).reset_index(drop=True)\n",
    "\n",
    "        print(f\"after undersampling: {df_balanced.shape}\")\n",
    "        \n",
    "        all_sheets.append(df_balanced)\n",
    "\n",
    "    # combine all sheets from the current file and align columns\n",
    "    all_columns = list(all_columns)\n",
    "    \n",
    "    for i in range(len(all_sheets)):\n",
    "        df = all_sheets[i]\n",
    "        # reindex to align columns, filling missing ones with Nan\n",
    "        df = df.reindex(columns=all_columns, fill_value=pd.NA)\n",
    "        all_sheets[i] = df\n",
    "\n",
    "        print(f\"after reindexing sheet {i+1}: {df.shape}\")\n",
    "\n",
    "    # combine all sheets from the current file q\n",
    "    return pd.concat(all_sheets, ignore_index=True, join='outer')\n",
    "\n",
    "# read, clean, and balance all files\n",
    "df_all = []\n",
    "for file, sharpness in zip(file_paths, sharpness_levels):\n",
    "    df_cleaned = clean_and_balance(file, sharpness, target_sampling_rate=25)\n",
    "    df_all.append(df_cleaned)\n",
    "\n",
    "\n",
    "# merge all cleaned and balanced data into a single dataframe\n",
    "df_final = pd.concat(df_all, ignore_index=True, join='outer')\n",
    "\n",
    "print(df_final.head(50))\n",
    "    "
   ]
  },
  {
   "cell_type": "code",
   "execution_count": 8,
   "id": "893711f6-3a98-46f9-9e8f-03182271f09f",
   "metadata": {},
   "outputs": [
    {
     "data": {
      "text/html": [
       "<div>\n",
       "<style scoped>\n",
       "    .dataframe tbody tr th:only-of-type {\n",
       "        vertical-align: middle;\n",
       "    }\n",
       "\n",
       "    .dataframe tbody tr th {\n",
       "        vertical-align: top;\n",
       "    }\n",
       "\n",
       "    .dataframe thead th {\n",
       "        text-align: right;\n",
       "    }\n",
       "</style>\n",
       "<table border=\"1\" class=\"dataframe\">\n",
       "  <thead>\n",
       "    <tr style=\"text-align: right;\">\n",
       "      <th></th>\n",
       "      <th>Left Foot q3</th>\n",
       "      <th>sharpness</th>\n",
       "      <th>Right Forearm q3</th>\n",
       "      <th>Right Hand x</th>\n",
       "      <th>Left Shoulder Flexion/Extension</th>\n",
       "      <th>Pelvis_T8 Flexion/Extension</th>\n",
       "      <th>T12 x</th>\n",
       "      <th>Pelvis q2</th>\n",
       "      <th>Head z</th>\n",
       "      <th>Pelvis q3</th>\n",
       "      <th>...</th>\n",
       "      <th>Right Upper Arm x</th>\n",
       "      <th>T8_LeftUpperArm Flexion/Extension</th>\n",
       "      <th>Left T4 Shoulder Internal/External Rotation</th>\n",
       "      <th>Left Hand q2</th>\n",
       "      <th>Left Upper Leg q1</th>\n",
       "      <th>Left Forearm q3</th>\n",
       "      <th>Right Toe q2</th>\n",
       "      <th>Right Upper Arm y</th>\n",
       "      <th>Right Upper Leg q0</th>\n",
       "      <th>Right Toe y</th>\n",
       "    </tr>\n",
       "  </thead>\n",
       "  <tbody>\n",
       "    <tr>\n",
       "      <th>0</th>\n",
       "      <td>0.865610</td>\n",
       "      <td>64</td>\n",
       "      <td>-0.718660</td>\n",
       "      <td>NaN</td>\n",
       "      <td>NaN</td>\n",
       "      <td>NaN</td>\n",
       "      <td>NaN</td>\n",
       "      <td>-0.027807</td>\n",
       "      <td>NaN</td>\n",
       "      <td>0.898629</td>\n",
       "      <td>...</td>\n",
       "      <td>NaN</td>\n",
       "      <td>NaN</td>\n",
       "      <td>NaN</td>\n",
       "      <td>-0.599872</td>\n",
       "      <td>0.011619</td>\n",
       "      <td>0.579465</td>\n",
       "      <td>0.009199</td>\n",
       "      <td>NaN</td>\n",
       "      <td>0.382298</td>\n",
       "      <td>NaN</td>\n",
       "    </tr>\n",
       "    <tr>\n",
       "      <th>1</th>\n",
       "      <td>0.865656</td>\n",
       "      <td>64</td>\n",
       "      <td>0.713075</td>\n",
       "      <td>NaN</td>\n",
       "      <td>NaN</td>\n",
       "      <td>NaN</td>\n",
       "      <td>NaN</td>\n",
       "      <td>-0.053318</td>\n",
       "      <td>NaN</td>\n",
       "      <td>0.795379</td>\n",
       "      <td>...</td>\n",
       "      <td>NaN</td>\n",
       "      <td>NaN</td>\n",
       "      <td>NaN</td>\n",
       "      <td>-0.230386</td>\n",
       "      <td>0.003779</td>\n",
       "      <td>0.343807</td>\n",
       "      <td>-0.038352</td>\n",
       "      <td>NaN</td>\n",
       "      <td>0.629217</td>\n",
       "      <td>NaN</td>\n",
       "    </tr>\n",
       "    <tr>\n",
       "      <th>2</th>\n",
       "      <td>0.688674</td>\n",
       "      <td>64</td>\n",
       "      <td>0.646431</td>\n",
       "      <td>NaN</td>\n",
       "      <td>NaN</td>\n",
       "      <td>NaN</td>\n",
       "      <td>NaN</td>\n",
       "      <td>-0.063365</td>\n",
       "      <td>NaN</td>\n",
       "      <td>0.628359</td>\n",
       "      <td>...</td>\n",
       "      <td>NaN</td>\n",
       "      <td>NaN</td>\n",
       "      <td>NaN</td>\n",
       "      <td>0.162143</td>\n",
       "      <td>-0.033012</td>\n",
       "      <td>0.199350</td>\n",
       "      <td>-0.071677</td>\n",
       "      <td>NaN</td>\n",
       "      <td>0.759949</td>\n",
       "      <td>NaN</td>\n",
       "    </tr>\n",
       "    <tr>\n",
       "      <th>3</th>\n",
       "      <td>0.688976</td>\n",
       "      <td>64</td>\n",
       "      <td>0.634212</td>\n",
       "      <td>NaN</td>\n",
       "      <td>NaN</td>\n",
       "      <td>NaN</td>\n",
       "      <td>NaN</td>\n",
       "      <td>-0.069118</td>\n",
       "      <td>NaN</td>\n",
       "      <td>0.642753</td>\n",
       "      <td>...</td>\n",
       "      <td>NaN</td>\n",
       "      <td>NaN</td>\n",
       "      <td>NaN</td>\n",
       "      <td>-0.159241</td>\n",
       "      <td>0.032945</td>\n",
       "      <td>0.213792</td>\n",
       "      <td>-0.067852</td>\n",
       "      <td>NaN</td>\n",
       "      <td>0.742035</td>\n",
       "      <td>NaN</td>\n",
       "    </tr>\n",
       "    <tr>\n",
       "      <th>4</th>\n",
       "      <td>0.865822</td>\n",
       "      <td>64</td>\n",
       "      <td>0.711837</td>\n",
       "      <td>NaN</td>\n",
       "      <td>NaN</td>\n",
       "      <td>NaN</td>\n",
       "      <td>NaN</td>\n",
       "      <td>-0.058039</td>\n",
       "      <td>NaN</td>\n",
       "      <td>0.791515</td>\n",
       "      <td>...</td>\n",
       "      <td>NaN</td>\n",
       "      <td>NaN</td>\n",
       "      <td>NaN</td>\n",
       "      <td>-0.228681</td>\n",
       "      <td>0.007917</td>\n",
       "      <td>0.343840</td>\n",
       "      <td>-0.036427</td>\n",
       "      <td>NaN</td>\n",
       "      <td>0.631574</td>\n",
       "      <td>NaN</td>\n",
       "    </tr>\n",
       "  </tbody>\n",
       "</table>\n",
       "<p>5 rows × 257 columns</p>\n",
       "</div>"
      ],
      "text/plain": [
       "   Left Foot q3  sharpness  Right Forearm q3  Right Hand x  \\\n",
       "0      0.865610         64         -0.718660           NaN   \n",
       "1      0.865656         64          0.713075           NaN   \n",
       "2      0.688674         64          0.646431           NaN   \n",
       "3      0.688976         64          0.634212           NaN   \n",
       "4      0.865822         64          0.711837           NaN   \n",
       "\n",
       "   Left Shoulder Flexion/Extension  Pelvis_T8 Flexion/Extension  T12 x  \\\n",
       "0                              NaN                          NaN    NaN   \n",
       "1                              NaN                          NaN    NaN   \n",
       "2                              NaN                          NaN    NaN   \n",
       "3                              NaN                          NaN    NaN   \n",
       "4                              NaN                          NaN    NaN   \n",
       "\n",
       "   Pelvis q2  Head z  Pelvis q3  ...  Right Upper Arm x  \\\n",
       "0  -0.027807     NaN   0.898629  ...                NaN   \n",
       "1  -0.053318     NaN   0.795379  ...                NaN   \n",
       "2  -0.063365     NaN   0.628359  ...                NaN   \n",
       "3  -0.069118     NaN   0.642753  ...                NaN   \n",
       "4  -0.058039     NaN   0.791515  ...                NaN   \n",
       "\n",
       "   T8_LeftUpperArm Flexion/Extension  \\\n",
       "0                                NaN   \n",
       "1                                NaN   \n",
       "2                                NaN   \n",
       "3                                NaN   \n",
       "4                                NaN   \n",
       "\n",
       "   Left T4 Shoulder Internal/External Rotation  Left Hand q2  \\\n",
       "0                                          NaN     -0.599872   \n",
       "1                                          NaN     -0.230386   \n",
       "2                                          NaN      0.162143   \n",
       "3                                          NaN     -0.159241   \n",
       "4                                          NaN     -0.228681   \n",
       "\n",
       "   Left Upper Leg q1  Left Forearm q3  Right Toe q2  Right Upper Arm y  \\\n",
       "0           0.011619         0.579465      0.009199                NaN   \n",
       "1           0.003779         0.343807     -0.038352                NaN   \n",
       "2          -0.033012         0.199350     -0.071677                NaN   \n",
       "3           0.032945         0.213792     -0.067852                NaN   \n",
       "4           0.007917         0.343840     -0.036427                NaN   \n",
       "\n",
       "   Right Upper Leg q0  Right Toe y  \n",
       "0            0.382298          NaN  \n",
       "1            0.629217          NaN  \n",
       "2            0.759949          NaN  \n",
       "3            0.742035          NaN  \n",
       "4            0.631574          NaN  \n",
       "\n",
       "[5 rows x 257 columns]"
      ]
     },
     "execution_count": 8,
     "metadata": {},
     "output_type": "execute_result"
    }
   ],
   "source": [
    "df_final.head()"
   ]
  },
  {
   "cell_type": "code",
   "execution_count": 33,
   "id": "ed37b15d-8be9-4f69-b7ea-4c5ef8a567d7",
   "metadata": {},
   "outputs": [
    {
     "data": {
      "text/plain": [
       "0    1171\n",
       "1    1409\n",
       "2    1797\n",
       "3    2125\n",
       "4    1487\n",
       "Name: Frame, dtype: int64"
      ]
     },
     "execution_count": 33,
     "metadata": {},
     "output_type": "execute_result"
    }
   ],
   "source": [
    "df_final['Frame'].head()"
   ]
  },
  {
   "cell_type": "code",
   "execution_count": 21,
   "id": "0857596f-9e81-4c07-b525-e9c2383a9e90",
   "metadata": {},
   "outputs": [
    {
     "data": {
      "text/plain": [
       "np.int64(22232)"
      ]
     },
     "execution_count": 21,
     "metadata": {},
     "output_type": "execute_result"
    }
   ],
   "source": [
    "df_final['Right Hand x'].isna().sum()"
   ]
  },
  {
   "cell_type": "code",
   "execution_count": 26,
   "id": "9e7b2b40-2f27-41da-8fdb-457776aef47d",
   "metadata": {},
   "outputs": [],
   "source": [
    "for cols in df_final.columns.tolist():\n",
    "    if df_final[cols].nunique() ==0:\n",
    "        print(f\"{cols}: {df_final[cols].nunique()}\")"
   ]
  },
  {
   "cell_type": "code",
   "execution_count": 103,
   "id": "6b7aa519-09d7-45b8-ab15-3b7b58d793fe",
   "metadata": {},
   "outputs": [],
   "source": [
    "features_to_plot = ['Left Foot q3', 'Right Forearm q3', 'sharpness']\n",
    "\n",
    "df_final = df_final.sort_values(by=\"Frame\").reset_index(drop=True)\n",
    "\n",
    "\n",
    "def smooth_data(series, window_size=5):\n",
    "    return series.rolling(window=window_size, min_periods=1).mean()\n",
    "\n",
    "df_final_smoothed = df_final.copy()\n",
    "for feature in features_to_plot:\n",
    "    df_final_smoothed[feature] = smooth_data(df_final[feature])\n"
   ]
  },
  {
   "cell_type": "code",
   "execution_count": 104,
   "id": "3b2285ab-af62-4d13-aa02-8f1254a61431",
   "metadata": {},
   "outputs": [],
   "source": [
    "df_final_downsampled = df_final_smoothed.iloc[::10, :]  # Keep every 10th frame"
   ]
  },
  {
   "cell_type": "code",
   "execution_count": 105,
   "id": "14043c1e-ca07-48b6-b62e-0c862044aa89",
   "metadata": {},
   "outputs": [
    {
     "data": {
      "image/png": "[encoded data removed]",
      "text/plain": [
       "<Figure size 1200x600 with 1 Axes>"
      ]
     },
     "metadata": {},
     "output_type": "display_data"
    }
   ],
   "source": [
    "import matplotlib.pyplot as plt\n",
    "import seaborn as sns\n",
    "\n",
    "plt.figure(figsize=(12, 6))\n",
    "\n",
    "# Smooth and downsampled data\n",
    "df_plot = df_final_downsampled\n",
    "\n",
    "# Plot each feature\n",
    "for feature in features_to_plot:\n",
    "    plt.plot(df_plot['Frame'], df_plot[feature], label=feature, alpha=0.8)\n",
    "\n",
    "# Shade background based on activity labels\n",
    "unique_activities = df_plot['Label'].unique()\n",
    "activity_colors = sns.color_palette(\"husl\", len(unique_activities))\n",
    "\n",
    "for i, activity in enumerate(unique_activities):\n",
    "    activity_rows = df_plot[df_plot['Label'] == activity]\n",
    "    plt.fill_between(activity_rows['Frame'], df_plot[features_to_plot].min().min(), \n",
    "                     df_plot[features_to_plot].max().max(), \n",
    "                     color=activity_colors[i], alpha=0.1, label=f'Activity {activity}')\n",
    "\n",
    "plt.xlabel(\"Frame\")\n",
    "plt.ylabel(\"Feature Values\")\n",
    "plt.title(\"Smoothed & Downsampled MoCap Data with Activities\")\n",
    "plt.legend()\n",
    "plt.grid(True)\n",
    "plt.show()\n"
   ]
  },
  {
   "cell_type": "code",
   "execution_count": 42,
   "id": "a3bf8787-220e-41a4-868b-5e2cf7d512c3",
   "metadata": {},
   "outputs": [
    {
     "data": {
      "image/png": "[encoded data removed]",
      "text/plain": [
       "<Figure size 1000x500 with 1 Axes>"
      ]
     },
     "metadata": {},
     "output_type": "display_data"
    }
   ],
   "source": [
    "plt.figure(figsize=(10, 5))\n",
    "plt.scatter(frame_activity_df['Frame'], frame_activity_df['Activity'], alpha=0.5)\n",
    "plt.xlabel('Frame')\n",
    "plt.ylabel('Activity')\n",
    "plt.title('Frame-wise activity distribution')\n",
    "plt.show()\n"
   ]
  },
  {
   "cell_type": "code",
   "execution_count": null,
   "id": "3ba1d4d1-0d68-42f3-a8eb-d4f888facbee",
   "metadata": {},
   "outputs": [],
   "source": []
  }
 ],
 "metadata": {
  "kernelspec": {
   "display_name": "Python 3 (ipykernel)",
   "language": "python",
   "name": "python3"
  },
  "language_info": {
   "codemirror_mode": {
    "name": "ipython",
    "version": 3
   },
   "file_extension": ".py",
   "mimetype": "text/x-python",
   "name": "python",
   "nbconvert_exporter": "python",
   "pygments_lexer": "ipython3",
   "version": "3.12.3"
  }
 },
 "nbformat": 4,
 "nbformat_minor": 5
}
